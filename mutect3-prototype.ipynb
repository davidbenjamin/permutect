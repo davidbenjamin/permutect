{
 "cells": [
  {
   "cell_type": "code",
   "execution_count": 1,
   "metadata": {
    "id": "lJSaK5vvJh04"
   },
   "outputs": [],
   "source": [
    "import numpy as np\n",
    "import pickle\n",
    "import torch\n",
    "import random\n",
    "from torch import nn, optim\n",
    "from torch.utils.data import DataLoader, Dataset, random_split\n",
    "from torch.autograd import Variable\n",
    "import matplotlib.pyplot as plt\n",
    "from collections import defaultdict\n",
    "\n",
    "from IPython.display import clear_output\n",
    "\n",
    "%matplotlib inline"
   ]
  },
  {
   "cell_type": "code",
   "execution_count": 36,
   "metadata": {},
   "outputs": [],
   "source": [
    "NUM_READ_FEATURES = 11  #size of each read's feature vector from M2 annotation\n",
    "NUM_INFO_FEATURES = 4   # size of each variant's info field tensor (3 components for HEC, one each for HAPDOM, HAPCOMP)\n",
    "REF_DOWNSAMPLE = 10 # choose this many ref reads randomly\n",
    "MIN_REF = 5\n",
    "ARTIFACT_POPAF_THRESHOLD = 5.9 # only let things absent from gnomAD be artifacts out of caution\n",
    "GERMLINE_POPAF_THRESHOLD = 1 #also very cautious.  There are so many germline variants we can be wasteful!\n",
    "TLOD_THRESHOLD = 6 # we are classified artifacts other than sequencing errors described by base qualities\n",
    "NON_ARTIFACT_PER_ARTIFACT = 50 #ratio of non-artifact to artifact in unsupervised training data"
   ]
  },
  {
   "cell_type": "code",
   "execution_count": 3,
   "metadata": {
    "id": "w5Gc0LkYpSaI"
   },
   "outputs": [],
   "source": [
    "#as a quick and robust estimate of the mean for the purpose of normalizing, we will take the median of medians of subsets\n",
    "#for example, take the median of each group of 100 read sets, then take the median of those\n",
    "NUM_SETS_PER_MEAN = 100\n",
    "\n",
    "def find_normalization(data):\n",
    "    medians = []\n",
    "    spreads = []\n",
    "    buffer = []\n",
    "    for n, (ref_tensor, _, _) in enumerate(data):\n",
    "        buffer.append(ref_tensor)\n",
    "        \n",
    "        if n > 0 and n % NUM_SETS_PER_MEAN == 0:\n",
    "            medians.append(torch.quantile(torch.cat(buffer, dim=0), 0.5, dim=0))\n",
    "            low_quantile = torch.quantile(torch.cat(buffer, dim=0), 0.02, dim=0)\n",
    "            high_quantile = torch.quantile(torch.cat(buffer, dim=0), 0.98, dim=0)\n",
    "            spreads.append(high_quantile - low_quantile)\n",
    "            buffer.clear()\n",
    "    mu = torch.median(torch.stack(medians), dim=0).values\n",
    "    sigma = torch.median(torch.stack(spreads), dim=0).values\n",
    "    \n",
    "    return mu, sigma\n",
    "\n",
    "def normalize(data, mu, sigma):\n",
    "    return [((ref - mu) / sigma, (alt - mu) / sigma, is_artifact) for ref, alt, is_artifact in data]"
   ]
  },
  {
   "cell_type": "code",
   "execution_count": 4,
   "metadata": {},
   "outputs": [],
   "source": [
    "class SiteMetadata:\n",
    "    def __init__(self, chromosome, position, ref, alt, popaf):\n",
    "        self._locus = chromosome + \":\" + str(position)\n",
    "        self._ref = ref\n",
    "        self._alt = alt\n",
    "        self._popaf = popaf\n",
    "        \n",
    "    def locus(self):\n",
    "        return self._locus\n",
    "    \n",
    "    def ref(self):\n",
    "        return self._ref\n",
    "    \n",
    "    def alt(self):\n",
    "        return self._alt\n",
    "    \n",
    "    def popaf(self):\n",
    "        return self._popaf\n",
    "    \n",
    "class Mutect2Data:\n",
    "    def __init__(self, tlod, tumor_dp, filters):\n",
    "        self._tlod = tlod\n",
    "        self._tumor_dp = tumor_dp\n",
    "        self._filters = filters\n",
    "        \n",
    "    def tlod(self):\n",
    "        return self._tlod\n",
    "    \n",
    "    def tumor_depth(self):\n",
    "        return self._tumor_dp\n",
    "    \n",
    "    def filters(self):\n",
    "        return self._filters\n",
    "    \n",
    "class VariantInfoFeatures:\n",
    "    #hec is abbreviation for haplotype equivalence counts\n",
    "    def __init__(self, hec, haplotype_complexity, haplotype_dominance):\n",
    "        # take integer haplotype equivalence counts (already in order from greatest to least from Mutect)\n",
    "        # and calculate the fractional share of the 2nd and 3rd, or 0 if none exist\n",
    "        total = 0\n",
    "        for n in hec:\n",
    "            total += n\n",
    "            \n",
    "        self._info = [0.0 if len(hec) < 2 else hec[1]/total, 0.0 if len(hec) < 3 else hec[2]/total]\n",
    "        \n",
    "        # now append the haplotype complexity and haplotype dominance\n",
    "        self._info.append(haplotype_complexity)\n",
    "        self._info.append(haplotype_dominance)\n",
    "        self._info = torch.FloatTensor(self._info)\n",
    "        \n",
    "    def get_info_tensor(self):\n",
    "        return self._info"
   ]
  },
  {
   "cell_type": "code",
   "execution_count": 5,
   "metadata": {},
   "outputs": [],
   "source": [
    "class Datum:\n",
    "    def __init__(self, ref_tensor, alt_tensor, info_tensor, metadata, mutect2_data, artifact_label):\n",
    "        self._ref_tensor = ref_tensor\n",
    "        self._alt_tensor = alt_tensor\n",
    "        self._info_tensor = info_tensor\n",
    "        self._metadata = metadata\n",
    "        self._mutect2_data = mutect2_data\n",
    "        self._artifact_label = artifact_label\n",
    "        \n",
    "    def ref_tensor(self):\n",
    "        return self._ref_tensor\n",
    "    \n",
    "    def alt_tensor(self):\n",
    "        return self._alt_tensor\n",
    "    \n",
    "    def info_tensor(self):\n",
    "        return self._info_tensor\n",
    "    \n",
    "    def metadata(self):\n",
    "        return self._metadata\n",
    "    \n",
    "    def mutect2_data(self):\n",
    "        return self._mutect2_data\n",
    "    \n",
    "    def artifact_label(self):\n",
    "        return self._artifact_label"
   ]
  },
  {
   "cell_type": "code",
   "execution_count": 6,
   "metadata": {},
   "outputs": [],
   "source": [
    "def index_if_exists(lis, element):\n",
    "    return lis.index(element) if element in lis else None\n",
    "\n",
    "def get_indices(lis, elements):\n",
    "    return tuple(index_if_exists(lis, element) for element in elements)\n",
    "\n",
    "ALLELE_SEPARATOR = '|'\n",
    "# get the ref and alt tensors from the VariantsToTable raw output, convert to torch tensors, downsample ref if needed\n",
    "def get_read_tensors(token, ref_downsample=None):\n",
    "    tokens = token.split(ALLELE_SEPARATOR)\n",
    "    ref, alt = tuple(np.fromstring(x, dtype=int, sep=',').reshape((-1, NUM_READ_FEATURES)) for x in tokens)\n",
    "    ref, alt = torch.from_numpy(ref).float(), torch.from_numpy(alt).float()\n",
    "    if (ref_downsample is not None and len(ref) > ref_downsample):\n",
    "        ref = ref[torch.randperm(len(ref))[:ref_downsample]]\n",
    "    return ref, alt\n",
    "\n",
    "class TableReader:\n",
    "    def __init__(self, header_tokens, tumor_sample, normal_sample=None):\n",
    "        \n",
    "        # site metadata\n",
    "        self.chrom_idx, self.pos_idx, self.ref_allele_idx, self.alt_allele_idx, self.popaf_idx = \\\n",
    "            get_indices(header_tokens, [\"CHROM\", \"POS\", \"REF\", \"ALT\", \"POPAF\"])\n",
    "        \n",
    "        # Mutect2 data\n",
    "        self.filter_idx, self.tlod_idx, self.tumor_dp_idx,  = \\\n",
    "            get_indices(header_tokens, [\"FILTER\", \"TLOD\", tumor_sample + \".DP\"])\n",
    "        \n",
    "        # variant info features\n",
    "        self.hec_idx, self.hapcomp_idx, self.hapdom_idx = get_indices(header_tokens, [\"HEC\", \"HAPCOMP\", \"HAPDOM\"])\n",
    "        \n",
    "        self.status_idx = index_if_exists(header_tokens, \"STATUS\")\n",
    "        self.tumor_idx = index_if_exists(header_tokens, tumor_sample + \".FRS\")\n",
    "        \n",
    "        # optional normal data\n",
    "        if normal_sample is not None:\n",
    "            self.normal_idx, self.normal_dp_idx = get_indices(header_tokens, [normal_sample + \".FRS\", normal_sample + \".DP\"])\n",
    "    \n",
    "    def variant_info_features(self, tokens):\n",
    "        haplotype_equivalence_counts = [int(n) for n in tokens[self.hec_idx].split(\",\")]\n",
    "        haplotype_complexity = int(tokens[self.hapcomp_idx])\n",
    "        haplotype_dominance = float(tokens[self.hapdom_idx])\n",
    "        return VariantInfoFeatures(haplotype_equivalence_counts, haplotype_complexity, haplotype_dominance)\n",
    "        \n",
    "    def site_metadata(self, tokens):\n",
    "        chromosome = tokens[self.chrom_idx]\n",
    "        position = int(tokens[self.pos_idx])\n",
    "        ref = tokens[self.ref_allele_idx]\n",
    "        alt = tokens[self.alt_allele_idx]\n",
    "        popaf = float(tokens[self.popaf_idx]) \n",
    "        return SiteMetadata(chromosome, position, ref, alt, popaf)\n",
    "    \n",
    "    def mutect2_data(self, tokens):\n",
    "        tlod = float(tokens[self.tlod_idx])\n",
    "        tumor_dp = int(tokens[self.tumor_dp_idx])\n",
    "        filters = set(tokens[self.filter_idx].split(\",\"))\n",
    "        return Mutect2Data(tlod, tumor_dp, filters)\n",
    "\n",
    "    def status(self, tokens):\n",
    "        return tokens[self.status_idx]\n",
    "    \n",
    "    def tumor_ref_and_alt(self, tokens, ref_downsample=None):\n",
    "        return get_read_tensors(tokens[self.tumor_idx], ref_downsample)\n",
    "    \n",
    "    def normal_dp(self, tokens):\n",
    "        return int(tokens[self.normal_dp_idx])\n",
    "    \n",
    "    def normal_ref_and_alt(self, tokens, ref_downsample=None):\n",
    "        return get_read_tensors(tokens[self.normal_idx], ref_downsample)"
   ]
  },
  {
   "cell_type": "code",
   "execution_count": 11,
   "metadata": {
    "id": "MeJClM28Jh07"
   },
   "outputs": [],
   "source": [
    "# this takes a table from VariantsToTable and produces a list of either\n",
    "# (ref tensor, alt tensor, and unsupervised label based on AF) if is_training = true\n",
    "# (ref tensor, alt tensor, (position, filters, status)) if is_training = false\n",
    "def make_tensors(raw_file, is_training, sample_name, normal_sample_name=None):\n",
    "    data = []\n",
    "            \n",
    "    # simple online method for balanced data set where for each k-alt-read artifact there are \n",
    "    # NON_ARTIFACT_PER_ARTIFACT (downsampled) k-alt-read non-artifacts.  That is, alt count is not an informative feature.\n",
    "    unmatched_artifact_counts = []\n",
    "        \n",
    "    with open(raw_file) as fp: \n",
    "        reader = TableReader(fp.readline().split(), sample_name, normal_sample_name)\n",
    "        \n",
    "        for n, line in enumerate(fp):\n",
    "            if n % 100000 == 0:\n",
    "                print(\"Processing line \" + str(n))\n",
    "                \n",
    "            tokens = line.split()\n",
    "            metadata = reader.site_metadata(tokens)\n",
    "            m2_data = reader.mutect2_data(tokens)\n",
    "\n",
    "            # Contamination and weak evidence / low log odds have low AFs but are not artifacts.  We exclude them\n",
    "            # from training.  As for testing, M3 will continue to rely on them \n",
    "            if \"contamination\" in m2_data.filters() or \"weak_evidence\" in m2_data.filters() or m2_data.tlod() < TLOD_THRESHOLD:\n",
    "                continue\n",
    "                \n",
    "            # for testing, M3 relies on the existing germline filter.  For training, we keep germline variants\n",
    "            # and downsample to simulate true non-artifacts with varying allele fraction\n",
    "            if \"germline\" in m2_data.filters() and not is_training:\n",
    "                continue\n",
    "\n",
    "            # in training, we want low popaf for true artifacts, high AF for true variants\n",
    "            # in order to have more confident weak labels.  In between, discard.\n",
    "            if  is_training and (GERMLINE_POPAF_THRESHOLD < metadata.popaf() < ARTIFACT_POPAF_THRESHOLD):\n",
    "                continue\n",
    "\n",
    "            ref_tensor, alt_tensor = reader.tumor_ref_and_alt(tokens, REF_DOWNSAMPLE)\n",
    "            alt_count = len(alt_tensor)\n",
    "            if alt_count == 0 or len(ref_tensor) < MIN_REF:\n",
    "                continue\n",
    "                \n",
    "            af = alt_count / m2_data.tumor_depth()\n",
    "            is_artifact = False\n",
    "            if is_training:\n",
    "                normal_af = 0\n",
    "                if normal_sample_name is not None:\n",
    "                    normal_dp = reader.normal_dp(tokens)\n",
    "                    normal_ref, normal_alt = reader.normal_ref_and_alt(tokens, REF_DOWNSAMPLE)\n",
    "                    normal_af = 0 if normal_dp == 0 else len(normal_alt) / normal_dp\n",
    "                    #TODO: output normal alt reads in dataset\n",
    "\n",
    "                # low AF in tumor and normal, rare in population implies artifact\n",
    "                if normal_af < 0.2 and af < 0.2 and metadata.popaf() > ARTIFACT_POPAF_THRESHOLD: \n",
    "                    unmatched_artifact_counts.extend([alt_count]*NON_ARTIFACT_PER_ARTIFACT)\n",
    "                    is_artifact = True\n",
    "                # high AF in tumor and normal, common in population implies germline, which we downsample\n",
    "                elif normal_af > 0.35 and af > 0.35 and metadata.popaf() < GERMLINE_POPAF_THRESHOLD and unmatched_artifact_counts:\n",
    "                    downsample_count = min(alt_count, unmatched_artifact_counts.pop())\n",
    "                    alt_tensor = alt_tensor[torch.randperm(alt_count)[:downsample_count]]\n",
    "                # inconclusive -- don't use for training data\n",
    "                else:\n",
    "                    continue\n",
    "            else:\n",
    "                # use Concordance STATUS field for test labels\n",
    "                status = reader.status(tokens)\n",
    "                is_artifact = (status == \"FP\" or status == \"FTN\")\n",
    "                    \n",
    "            # assembly complexity site-level annotations\n",
    "            info_tensor = reader.variant_info_features(tokens).get_info_tensor()\n",
    "\n",
    "            data.append(Datum(ref_tensor, alt_tensor, info_tensor, metadata, m2_data, 1 if is_artifact else 0))\n",
    "\n",
    "    return data"
   ]
  },
  {
   "cell_type": "code",
   "execution_count": 12,
   "metadata": {
    "colab": {
     "base_uri": "https://localhost:8080/",
     "height": 447
    },
    "id": "NPceqfjFJh0_",
    "outputId": "dcb8eb07-6aab-44c1-b784-c5f66ec37fad",
    "scrolled": false
   },
   "outputs": [
    {
     "name": "stdout",
     "output_type": "stream",
     "text": [
      "Processing line 0\n",
      "Processing line 100000\n",
      "Processing line 200000\n",
      "Processing line 300000\n",
      "Processing line 400000\n",
      "Processing line 500000\n",
      "Processing line 600000\n",
      "Processing line 700000\n",
      "Processing line 800000\n",
      "Processing line 900000\n",
      "Processing line 1000000\n",
      "Processing line 1100000\n",
      "Processing line 1200000\n",
      "Processing line 1300000\n",
      "Processing line 1400000\n",
      "Processing line 1500000\n",
      "Processing line 1600000\n",
      "Processing line 1700000\n",
      "Processing line 1800000\n",
      "Processing line 1900000\n",
      "Processing line 2000000\n",
      "Processing line 2100000\n",
      "Processing line 2200000\n",
      "Processing line 2300000\n",
      "Processing line 2400000\n",
      "Processing line 2500000\n",
      "Processing line 2600000\n",
      "Processing line 2700000\n",
      "Processing line 2800000\n",
      "Processing line 2900000\n",
      "Processing line 3000000\n",
      "Processing line 3100000\n",
      "Processing line 3200000\n",
      "Processing line 3300000\n",
      "Processing line 3400000\n",
      "Processing line 3500000\n",
      "Processing line 3600000\n",
      "Processing line 3700000\n",
      "Processing line 3800000\n",
      "Processing line 3900000\n",
      "Processing line 4000000\n",
      "Processing line 4100000\n",
      "Processing line 4200000\n",
      "train tensors ready\n",
      "Processing line 0\n",
      "Processing line 100000\n",
      "Processing line 200000\n",
      "Processing line 300000\n",
      "Processing line 400000\n",
      "Processing line 500000\n",
      "Processing line 600000\n",
      "Processing line 700000\n",
      "Processing line 800000\n",
      "Processing line 900000\n",
      "Processing line 1000000\n",
      "Processing line 1100000\n",
      "Processing line 1200000\n",
      "Processing line 1300000\n",
      "Processing line 1400000\n",
      "Processing line 1500000\n",
      "Processing line 1600000\n",
      "Processing line 1700000\n",
      "Processing line 1800000\n",
      "Processing line 1900000\n",
      "Processing line 2000000\n",
      "Processing line 2100000\n",
      "Processing line 2200000\n",
      "Processing line 2300000\n",
      "Processing line 2400000\n",
      "Processing line 2500000\n",
      "Processing line 2600000\n",
      "Processing line 2700000\n",
      "Processing line 2800000\n",
      "Processing line 2900000\n",
      "Processing line 3000000\n",
      "Processing line 3100000\n",
      "Processing line 3200000\n",
      "Processing line 3300000\n",
      "Processing line 3400000\n",
      "Processing line 3500000\n",
      "Processing line 3600000\n",
      "Processing line 3700000\n",
      "Processing line 3800000\n",
      "Processing line 3900000\n",
      "Processing line 4000000\n",
      "Processing line 4100000\n",
      "Processing line 4200000\n",
      "test tensors ready\n",
      "train data pickled\n",
      "test data pickled\n"
     ]
    }
   ],
   "source": [
    "tumor_file = '/Users/davidben/broad/mutect3/dream1-tumor.table'\n",
    "normal_file = '/Users/davidben/broad/mutect3/dream1-normal.table'\n",
    "pickled_train_file = '/Users/davidben/broad/mutect3/dream1-tumor-train.pickle'\n",
    "pickled_test_file = '/Users/davidben/broad/mutect3/dream1-tumor-test.pickle'\n",
    "\n",
    "tumor_sample = 'synthetic.challenge.set1.tumor'\n",
    "normal_sample = 'synthetic.challenge.set1.normal'\n",
    "\n",
    "# we can train on either the tumor OR the normal!\n",
    "#first find unnormalized data\n",
    "train_data = make_tensors(tumor_file, True, tumor_sample, normal_sample)\n",
    "print(\"train tensors ready\")\n",
    "test_data = make_tensors(tumor_file, False, tumor_sample, normal_sample)\n",
    "print(\"test tensors ready\")\n",
    "\n",
    "#mu, sigma = find_normalization(train_data)\n",
    "#train_data = normalize(train_data, mu, sigma)\n",
    "#test_data = normalize(test_data, mu, sigma)\n",
    "\n",
    "with open(pickled_train_file, 'wb') as f:\n",
    "    pickle.dump(train_data, f)\n",
    "print(\"train data pickled\")\n",
    "    \n",
    "with open(pickled_test_file, 'wb') as f:\n",
    "    pickle.dump(test_data, f)\n",
    "print(\"test data pickled\")"
   ]
  },
  {
   "cell_type": "code",
   "execution_count": 13,
   "metadata": {
    "id": "x3jAMcfiJh1C"
   },
   "outputs": [],
   "source": [
    "# read features are:\n",
    "# map qual, base qual, is first of pair, is reverse, left read position, right read position\n",
    "# fragment length, left fragment position, right fragment position, SNVs wrt best haplotype, indels wrt best haplotype\n",
    "SCALE = torch.tensor([60, 30, 1, 1, 100, 100, 500, 500, 500, 1, 1])\n",
    "\n",
    "class Mutect3Dataset(Dataset):\n",
    "    \n",
    "    def __init__(self, pickled_file):\n",
    "        with open(pickled_file, 'rb') as f:\n",
    "            raw_data = pickle.load(f)\n",
    "            self.data = []\n",
    "            for datum in raw_data:\n",
    "                scaled_ref, scaled_alt = datum.ref_tensor()/SCALE, datum.alt_tensor()/SCALE\n",
    "                scaled = Datum(scaled_ref, scaled_alt, datum.info_tensor(), datum.metadata(), datum.mutect2_data(), datum.artifact_label())\n",
    "                self.data.append(scaled)\n",
    "            random.shuffle(self.data)\n",
    "          \n",
    "    def __len__(self):\n",
    "        return len(self.data)\n",
    "    \n",
    "    def __getitem__(self, index):\n",
    "        return self.data[index]"
   ]
  },
  {
   "cell_type": "code",
   "execution_count": 14,
   "metadata": {
    "id": "Plj2YeoLJh1E"
   },
   "outputs": [
    {
     "name": "stdout",
     "output_type": "stream",
     "text": [
      "172216 19136 17645\n"
     ]
    }
   ],
   "source": [
    "data = Mutect3Dataset(pickled_train_file)\n",
    "train_len = int(0.9*len(data))\n",
    "valid_len = len(data) - train_len\n",
    "train, valid = random_split(data, lengths=[train_len, valid_len])\n",
    "test = Mutect3Dataset(pickled_test_file)\n",
    "print(len(train), len(valid), len(test))"
   ]
  },
  {
   "cell_type": "markdown",
   "metadata": {},
   "source": [
    "Measure the quality of our self-supervised labelling.  We calculate the number of \"artifacts\" in our training/validation data that are actually 'PASS'"
   ]
  },
  {
   "cell_type": "code",
   "execution_count": 15,
   "metadata": {},
   "outputs": [
    {
     "name": "stdout",
     "output_type": "stream",
     "text": [
      "19\n",
      "187600\n"
     ]
    }
   ],
   "source": [
    "print(len([_ for datum in data if 'PASS' in datum.mutect2_data().filters() and datum.artifact_label() == 1]))\n",
    "print(len([_ for datum in data if 'PASS' not in datum.mutect2_data().filters() and datum.artifact_label() == 0]))"
   ]
  },
  {
   "cell_type": "code",
   "execution_count": 16,
   "metadata": {
    "colab": {
     "base_uri": "https://localhost:8080/",
     "height": 51
    },
    "id": "oPXYdqRZJh1G",
    "outputId": "8629f3a2-4771-4159-da73-42a81d0a8759"
   },
   "outputs": [
    {
     "name": "stdout",
     "output_type": "stream",
     "text": [
      "[0.0, 9.0, 76.0, 544.94, 734.64, 625.92, 440.1, 362.16, 169.62, 170.18, 117.2, 66.02, 64.02, 63.86, 48.74, 42.7, 34.12, 31.68, 23.28, 18.92]\n",
      "[0, 9, 76, 544, 732, 623, 436, 359, 165, 168, 116, 64, 62, 63, 48, 42, 34, 31, 22, 19]\n"
     ]
    }
   ],
   "source": [
    "artifact_alt_counts = np.array([len(datum.alt_tensor()) for datum in data if datum.artifact_label() == 1] )\n",
    "non_artifact_alt_counts = np.array([len(datum.alt_tensor()) for datum in data if datum.artifact_label() == 0] )\n",
    "print((np.bincount(non_artifact_alt_counts)[0:20]/NON_ARTIFACT_PER_ARTIFACT).tolist())\n",
    "print((np.bincount(artifact_alt_counts)[0:20]).tolist())"
   ]
  },
  {
   "cell_type": "code",
   "execution_count": 17,
   "metadata": {},
   "outputs": [
    {
     "data": {
      "text/plain": [
       "(array([  4.,   6.,   5.,   7.,   7.,  20.,  22.,  24.,  29.,  29.,  51.,\n",
       "         50.,  52.,  66.,  81.,  72.,  99.,  89., 114.,  87.,  95., 145.,\n",
       "        116., 106., 113., 113.,  93., 102., 128., 139., 113.,  95., 118.,\n",
       "        134.,  94., 100., 145.,  69.,  86.,  75., 108.,  56.,  66.,  72.,\n",
       "         73.,  77.,  69.,  54.,  54.,  30.]),\n",
       " array([0.02840909, 0.03181037, 0.03521166, 0.03861294, 0.04201423,\n",
       "        0.04541551, 0.04881679, 0.05221808, 0.05561936, 0.05902065,\n",
       "        0.06242193, 0.06582321, 0.0692245 , 0.07262578, 0.07602706,\n",
       "        0.07942835, 0.08282963, 0.08623092, 0.0896322 , 0.09303348,\n",
       "        0.09643477, 0.09983605, 0.10323734, 0.10663862, 0.1100399 ,\n",
       "        0.11344119, 0.11684247, 0.12024375, 0.12364504, 0.12704632,\n",
       "        0.13044761, 0.13384889, 0.13725017, 0.14065146, 0.14405274,\n",
       "        0.14745402, 0.15085531, 0.15425659, 0.15765788, 0.16105916,\n",
       "        0.16446044, 0.16786173, 0.17126301, 0.1746643 , 0.17806558,\n",
       "        0.18146686, 0.18486815, 0.18826943, 0.19167071, 0.195072  ,\n",
       "        0.19847328]),\n",
       " <a list of 50 Patch objects>)"
      ]
     },
     "execution_count": 17,
     "metadata": {},
     "output_type": "execute_result"
    },
    {
     "data": {
      "image/png": "[encoded data removed]",
      "text/plain": [
       "<Figure size 432x288 with 1 Axes>"
      ]
     },
     "metadata": {
      "needs_background": "light"
     },
     "output_type": "display_data"
    }
   ],
   "source": [
    "artifact_counts_and_depths = [(len(datum.alt_tensor()), datum.mutect2_data().tumor_depth()) for datum in data if datum.artifact_label() == 1]\n",
    "afs = [count / depth for count,depth in artifact_counts_and_depths]\n",
    "plt.hist(afs, bins=50)"
   ]
  },
  {
   "cell_type": "code",
   "execution_count": 18,
   "metadata": {},
   "outputs": [
    {
     "name": "stdout",
     "output_type": "stream",
     "text": [
      "0\n",
      "Parameter containing:\n",
      "tensor(0.1892, requires_grad=True) Parameter containing:\n",
      "tensor(0.0863, requires_grad=True)\n"
     ]
    },
    {
     "data": {
      "image/png": "[encoded data removed]",
      "text/plain": [
       "<Figure size 432x288 with 1 Axes>"
      ]
     },
     "metadata": {
      "needs_background": "light"
     },
     "output_type": "display_data"
    }
   ],
   "source": [
    "#Now let's learn the spectrum of artifact allele fractions in order to combine our calibrated classifier with priors\n",
    "# to get a posterior probability\n",
    "# the model is alt count ~ BetaBinomial(alpha, beta, depth)\n",
    "# and we want to learn alpha, beta by MLE\n",
    "\n",
    "alpha = nn.Parameter(torch.tensor(1.))\n",
    "beta = nn.Parameter(torch.tensor(1.))\n",
    "\n",
    "learning_rate = 1e-2\n",
    "optimizer = torch.optim.Adam([alpha, beta], lr=learning_rate)\n",
    "\n",
    "alpha_vals = []\n",
    "beta_vals = []\n",
    "\n",
    "for epoch in range(1):\n",
    "    print(epoch)\n",
    "    for step, (k,n) in enumerate(artifact_counts_and_depths):\n",
    "        nll = torch.lgamma(n + alpha + beta) + torch.lgamma(alpha) + torch.lgamma(beta) \\\n",
    "            - torch.lgamma(k + alpha) + torch.lgamma(n - k + beta) - torch.lgamma(alpha + beta)\n",
    "        optimizer.zero_grad()\n",
    "        nll.backward()\n",
    "        optimizer.step()\n",
    "\n",
    "        if step % 100 == 0:\n",
    "            alpha_vals.append(alpha.item())\n",
    "            beta_vals.append(beta.item())\n",
    "\n",
    "plt.plot(alpha_vals)\n",
    "plt.plot(beta_vals)\n",
    "print(alpha, beta)"
   ]
  },
  {
   "cell_type": "code",
   "execution_count": 19,
   "metadata": {
    "id": "c_EOeodfJh1J"
   },
   "outputs": [],
   "source": [
    "class LinearStack(nn.Module):\n",
    "    #layer_sizes starts from the input and ends with the output\n",
    "    #optional batch normalization\n",
    "    def __init__(self, layer_sizes, batch_normalize=False, batch_normalize_input=False):\n",
    "        \n",
    "        super(LinearStack, self).__init__()\n",
    "        \n",
    "        self.layers = nn.ModuleList()\n",
    "        for k in range(len(layer_sizes)-1):\n",
    "            self.layers.append(nn.Linear(layer_sizes[k], layer_sizes[k+1]))\n",
    "            \n",
    "        self.bn = nn.ModuleList()\n",
    "        \n",
    "        self.batch_normalize_input = False\n",
    "        if batch_normalize_input:\n",
    "            self.batch_normalize_input = True\n",
    "            self.bn_input = nn.BatchNorm1d(num_features=layer_sizes[0])\n",
    "        \n",
    "        if batch_normalize:  \n",
    "            #batch normalize after every linear transformation\n",
    "            for size in layer_sizes[1:]:\n",
    "                self.bn.append(nn.BatchNorm1d(num_features=size))\n",
    "            \n",
    "    def forward(self, x):\n",
    "        if self.batch_normalize_input:\n",
    "            x = self.bn_input(x)\n",
    "\n",
    "        # Feedforward -- note that last layer has no non-linearity\n",
    "        for n, layer in enumerate(self.layers):\n",
    "            x = layer(x)\n",
    "            if self.bn:\n",
    "                x = self.bn[n](x)\n",
    "            if n < len(self.layers) - 1:\n",
    "                x = nn.functional.relu(x)\n",
    "\n",
    "        return x"
   ]
  },
  {
   "cell_type": "code",
   "execution_count": 39,
   "metadata": {
    "id": "UfZ181vFJh1R"
   },
   "outputs": [],
   "source": [
    "# Read sets have different sizes so we can't form a batch by naively stacking tensors.  We need a custom collate \n",
    "# function for our data loader, which our model must understand.\n",
    "\n",
    "# input batch is a list of Datum objects\n",
    "\n",
    "class Batch:\n",
    "    def __init__(self, ref, alt, ref_counts, alt_counts, info, metadata, mutect2_data, labels):\n",
    "        self._ref = ref\n",
    "        self._alt = alt\n",
    "        self._ref_counts = ref_counts\n",
    "        self._alt_counts = alt_counts\n",
    "        self._info = info\n",
    "        self._metadata = metadata\n",
    "        self._mutect2_data = mutect2_data\n",
    "        self._labels = labels\n",
    "        self._size = len(labels)\n",
    "        \n",
    "    def size(self):\n",
    "        return self._size\n",
    "        \n",
    "    def ref(self):\n",
    "        return self._ref\n",
    "    \n",
    "    def alt(self):\n",
    "        return self._alt\n",
    "    \n",
    "    def ref_counts(self):\n",
    "        return self._ref_counts\n",
    "    \n",
    "    def alt_counts(self):\n",
    "        return self._alt_counts\n",
    "    \n",
    "    def info(self):\n",
    "        return self._info\n",
    "    \n",
    "    def metadata(self):\n",
    "        return self._metadata\n",
    "    \n",
    "    def mutect2_data(self):\n",
    "        return self._mutect2_data\n",
    "    \n",
    "    def labels(self):\n",
    "        return self._labels\n",
    "    \n",
    "# collated batch contains:\n",
    "# 2D tensors of ALL ref (alt) reads, not separated by set.\n",
    "# number of reads in ref (alt) read sets, in same order as read tensors\n",
    "# info: 2D tensor of info fields, one row per variant\n",
    "# labels: 1D tensor of 0 if non-artifact, 1 if artifact\n",
    "# lists of original mutect2_data and metadata\n",
    "# Example: if we have two input data, one with alt reads [[0,1,2], [3,4,5] and the other with \n",
    "# alt reads [[6,7,8], [9,10,11], [12,13,14] then the output alt reads tensor is\n",
    "# [[0,1,2], [3,4,5], [6,7,8], [9,10,11], [12,13,14]] and the output counts are [2,3]\n",
    "# inside the model, the counts will be used to separate the reads into sets\n",
    "def collate_read_sets(batch):\n",
    "    ref_counts = torch.IntTensor([len(item.ref_tensor()) for item in batch])\n",
    "    alt_counts = torch.IntTensor([len(item.alt_tensor()) for item in batch])\n",
    "    ref = torch.cat([item.ref_tensor() for item in batch], dim=0)\n",
    "    alt = torch.cat([item.alt_tensor() for item in batch], dim=0)\n",
    "    info = torch.stack([item.info_tensor() for item in batch], dim=0)\n",
    "    labels = torch.FloatTensor([item.artifact_label() for item in batch])\n",
    "    metadata = [item.metadata() for item in batch]\n",
    "    mutect2_data = [item.mutect2_data() for item in batch]\n",
    "    return Batch(ref, alt, ref_counts, alt_counts, info, metadata, mutect2_data, labels)"
   ]
  },
  {
   "cell_type": "code",
   "execution_count": 44,
   "metadata": {
    "id": "SYyjAgBZJh1M"
   },
   "outputs": [],
   "source": [
    "class ReadSetClassifier(nn.Module):\n",
    "    #embedding layer sizes include input, aggregation hidden layer sizes do not include its input which is \n",
    "    # the embedding output, nor its output which is a binary classification\n",
    "    def __init__(self, embedding_layer_sizes, info_embedding_layer_sizes, aggregation_hidden_layer_sizes):\n",
    "        super(ReadSetClassifier, self).__init__()\n",
    "        \n",
    "        # phi is the universal read embedding function\n",
    "        self.phi = LinearStack(embedding_layer_sizes, batch_normalize=False, batch_normalize_input=False)\n",
    "        self.embedding_dimension = embedding_layer_sizes[-1] #this is the embedding dimension of one read\n",
    "        \n",
    "        #omega is the universal embedding of info field variant-level data\n",
    "        self.omega = LinearStack(info_embedding_layer_sizes, batch_normalize=False, batch_normalize_input=False)\n",
    "        self.info_embedding_dimension = info_embedding_layer_sizes[-1]\n",
    "        \n",
    "        # rho is the universal aggregation function\n",
    "        # the *2 is for the use of both ref and alt reads\n",
    "        # the [1] is the final binary classification in logit space\n",
    "        self.rho = LinearStack([2*self.embedding_dimension + self.info_embedding_dimension] + aggregation_hidden_layer_sizes + [1], batch_normalize=False, batch_normalize_input=False)\n",
    "        \n",
    "    # see the custom collate_fn for information on the batched input\n",
    "    def forward(self, batch):\n",
    "    \n",
    "        # broadcast the embedding to each read\n",
    "        num_sets = batch.size()\n",
    "        \n",
    "        phi_ref = torch.sigmoid(self.phi(batch.ref()))\n",
    "        phi_alt = torch.sigmoid(self.phi(batch.alt()))\n",
    "        omega_info = torch.sigmoid(self.omega(batch.info()))\n",
    "                        \n",
    "        ref_end = torch.cumsum(batch.ref_counts(), dim=0)\n",
    "        ref_slices = [slice(0 if n == 0 else ref_end[n-1],ref_end[n]) for n in range(num_sets)]\n",
    "        alt_end = torch.cumsum(batch.alt_counts(), dim=0)\n",
    "        alt_slices = [slice(0 if n == 0 else alt_end[n-1],alt_end[n]) for n in range(num_sets)]\n",
    "               \n",
    "        # note that after taking means, tensors are now num_sets x embedding dimension\n",
    "        ref_means = torch.cat([torch.mean(phi_ref[slice], dim=0, keepdim=True) for slice in ref_slices], dim=0)\n",
    "        alt_means = torch.cat([torch.mean(phi_alt[slice], dim=0, keepdim=True) for slice in alt_slices], dim=0)\n",
    "\n",
    "        #stack the ref and alt means and info side-by-side so that each row of the resulting\n",
    "        # 2D tensor is (mean ref 1, . . . mean ref D, mean alt 1, . . . mean alt D, ref count)\n",
    "        stacked_embeddings = torch.cat((ref_means, alt_means, omega_info), dim=1)\n",
    "                \n",
    "        # broadcast the aggregation over the batch\n",
    "        logits = self.rho(stacked_embeddings)\n",
    "        \n",
    "        # scale the logits to express greater certainty ~sqrt(N) with increasing alt count.  We might get rid of this.\n",
    "        output = logits  * torch.sqrt(torch.unsqueeze(batch.alt_counts(),1).float())\n",
    "        \n",
    "        # note that no non-linearity is applied here because nn.BCEWithLogitsLoss() includes\n",
    "        # the sigmoid.  Thus when classifying we will have to apply the sigmoid explicitly\n",
    "        return torch.squeeze(output)"
   ]
  },
  {
   "cell_type": "code",
   "execution_count": 22,
   "metadata": {},
   "outputs": [],
   "source": [
    "class TemperatureScaledReadSetClassifier(nn.Module):\n",
    "    \"\"\"\n",
    "    A thin decorator, which wraps the above model with temperature scaling\n",
    "    NB: Output of the neural network should be the classification logits,\n",
    "            NOT the softmax (or log softmax)!\n",
    "    \"\"\"\n",
    "    def __init__(self, model):\n",
    "        super(TemperatureScaledReadSetClassifier, self).__init__()\n",
    "        self.model = model\n",
    "        self.temperature = nn.Parameter(torch.tensor(1.5))\n",
    "\n",
    "    def forward(self, batch):\n",
    "        logits = self.model(batch)\n",
    "        return self.temperature_scale(logits)\n",
    "\n",
    "    def temperature_scale(self, logits):\n",
    "        # Expand temperature to match the size of logits\n",
    "        return logits / self.temperature\n",
    "\n",
    "    # This function probably should live outside of this class, but whatever\n",
    "    def set_temperature(self, valid_loader):\n",
    "        \"\"\"\n",
    "        Tune the tempearature of the model (using the validation set).\n",
    "        We're going to set it to optimize NLL.\n",
    "        valid_loader (DataLoader): validation set loader\n",
    "        \"\"\"\n",
    "        nll_criterion = nn.BCEWithLogitsLoss()\n",
    "\n",
    "        # First: collect all the logits and labels for the validation set\n",
    "        logits_list = []\n",
    "        labels_list = []\n",
    "        with torch.no_grad():\n",
    "            for batch in valid_loader:\n",
    "                logits = self.model(ref_reads, alt_reads, ref_counts, alt_counts, info)\n",
    "                logits_list.append(logits)\n",
    "                labels_list.append(batch.labels())\n",
    "            logits = torch.cat(logits_list)\n",
    "            labels = torch.cat(labels_list)\n",
    "\n",
    "        # Calculate NLL and ECE before temperature scaling\n",
    "        before_temperature_nll = nll_criterion(logits, labels).item()\n",
    "        print('Before temperature - NLL: %.3f' % (before_temperature_nll))\n",
    "\n",
    "        # Next: optimize the temperature w.r.t. NLL\n",
    "        optimizer = optim.LBFGS([self.temperature], lr=0.01, max_iter=50)\n",
    "\n",
    "        def eval():\n",
    "            loss = nll_criterion(self.temperature_scale(logits), labels)\n",
    "            loss.backward()\n",
    "            return loss\n",
    "        optimizer.step(eval)\n",
    "\n",
    "        # Calculate NLL and ECE after temperature scaling\n",
    "        after_temperature_nll = nll_criterion(self.temperature_scale(logits), labels).item()\n",
    "        print('Optimal temperature: %.3f' % self.temperature.item())\n",
    "        print('After temperature - NLL: %.3f' % (after_temperature_nll))\n",
    "\n",
    "        return self"
   ]
  },
  {
   "cell_type": "code",
   "execution_count": 23,
   "metadata": {
    "id": "mzREpVOdJh1S"
   },
   "outputs": [],
   "source": [
    "def round_alt_count_for_binning(alt_count):\n",
    "    if alt_count < 15:\n",
    "        return alt_count\n",
    "    else:\n",
    "        return alt_count - alt_count % 5"
   ]
  },
  {
   "cell_type": "code",
   "execution_count": 24,
   "metadata": {},
   "outputs": [],
   "source": [
    "def plot_learning_curves(train_losses, valid_losses):\n",
    "    fig = plt.figure()\n",
    "    learning_curve = fig.gca()\n",
    "    epochs = range(1, len(train_losses) + 1)\n",
    "    learning_curve.plot(epochs, train_losses, label = \"training\")\n",
    "    learning_curve.plot(epochs, valid_losses, label = \"validation\")\n",
    "    learning_curve.set_title(\"Learning curves\")\n",
    "    learning_curve.set_xlabel(\"epoch\")\n",
    "    learning_curve.set_ylabel(\"loss\")\n",
    "    learning_curve.legend() \n",
    "    return fig, learning_curve"
   ]
  },
  {
   "cell_type": "code",
   "execution_count": 25,
   "metadata": {},
   "outputs": [],
   "source": [
    "# confusion_matrices is dict of alt count to 2x2 [[,],[,]] confusion matrices where 0/1 is non-artifact/artifact\n",
    "# and 1st index is truth, 2nd index is prediction\n",
    "def plot_sensitivities(confusion_matrices, name):\n",
    "    counts = []\n",
    "    variant_sensitivities = []\n",
    "    artifact_sensitivities = []\n",
    "    for alt_count_bin in sorted(confusion_matrices.keys()):\n",
    "        matrix = confusion_matrices[alt_count_bin]\n",
    "        if (matrix[0][0] + matrix[0][1]) == 0 or (matrix[1][0] + matrix[1][1]) == 0:\n",
    "            continue\n",
    "\n",
    "        counts.append(alt_count_bin)\n",
    "        variant_sensitivities.append(matrix[0][0] / (matrix[0][0] + matrix[0][1]))\n",
    "        artifact_sensitivities.append(matrix[1][1] / (matrix[1][0] + matrix[1][1]))\n",
    "\n",
    "    fig = plt.figure()\n",
    "    accuracy_curve = fig.gca()\n",
    "    accuracy_curve\n",
    "    accuracy_curve.clear()\n",
    "    accuracy_curve.plot(counts, variant_sensitivities, label = \"variant sensitivity\")\n",
    "    accuracy_curve.plot(counts, artifact_sensitivities, label = \"artifact sensitivity\")\n",
    "    accuracy_curve.set_title(\"Variant and artifact sensitivity by alt count for \" + name)\n",
    "    accuracy_curve.set_xlabel(\"alt count\")\n",
    "    accuracy_curve.set_ylabel(\"sensitivity\")\n",
    "    accuracy_curve.legend()\n",
    "    return fig, accuracy_curve"
   ]
  },
  {
   "cell_type": "code",
   "execution_count": 26,
   "metadata": {},
   "outputs": [],
   "source": [
    "def plot_scores(artifact_scores, non_artifact_scores, name):\n",
    "    fig, ax = plt.subplots(3, 3, sharex='col', sharey='row')\n",
    "    fig.set_figheight(10)\n",
    "    fig.set_figwidth(10)\n",
    "    for n, count in enumerate([2, 3, 5, 7, 9, 12, 16, 20, 25]):\n",
    "        row = int(n/3)\n",
    "        col = n % 3\n",
    "        ax[row, col].hist(non_artifact_scores[count], bins=50, alpha = 0.5, label = 'non-artifacts')\n",
    "        ax[row, col].hist(artifact_scores[count], bins=50, alpha = 0.5, label = 'artifacts')\n",
    "        ax[row, col].set_title(\"Alt count \" + str(count) + \" for \" + name)\n",
    "        ax[row, col].set_xlabel(\"score\")\n",
    "        ax[row, col].legend()\n",
    "    return fig, ax"
   ]
  },
  {
   "cell_type": "code",
   "execution_count": 27,
   "metadata": {},
   "outputs": [],
   "source": [
    "class ValidationStats:\n",
    "    def __init__(self):\n",
    "        self.confusion_by_count = defaultdict(lambda: [[0,0],[0,0]])\n",
    "        self.confusion = [[0,0],[0,0]]\n",
    "        \n",
    "        self.artifact_scores_by_count = defaultdict(list)\n",
    "        self.non_artifact_scores_by_count = defaultdict(list)\n",
    "        \n",
    "        self.missed_artifacts_by_count = defaultdict(list)\n",
    "        self.missed_variants_by_count = defaultdict(list)\n",
    "        \n",
    "    # prediction and truth are 0 if not artifact, 1 if artifact\n",
    "    def add(self, alt_count, truth, prediction, score, filters, position):\n",
    "        alt_count_bin = round_alt_count_for_binning(alt_count)\n",
    "        self.confusion_by_count[alt_count_bin][truth][prediction] += 1\n",
    "        self.confusion[truth][prediction] += 1\n",
    "        (self.artifact_scores_by_count if truth == 1 else self.non_artifact_scores_by_count)[alt_count_bin].append(score)\n",
    "        \n",
    "        if truth == 1 and prediction == 0:\n",
    "            self.missed_artifacts_by_count[alt_count_bin].append((score, position, filters))\n",
    "        elif truth == 0 and prediction == 1:\n",
    "            self.missed_variants_by_count[alt_count_bin].append((score, position, filters))\n",
    "        \n",
    "    def confusion_matrices(self):\n",
    "        return self.confusion_by_count\n",
    "    \n",
    "    def confusion(self):\n",
    "        return self.confusion\n",
    "    \n",
    "    def sensitivity(self):\n",
    "        return self.confusion[0][0]/(self.confusion[0][0] + self.confusion[0][1])\n",
    "    \n",
    "    def precision(self):\n",
    "        return self.confusion[0][0]/(self.confusion[0][0] + self.confusion[1][0])\n",
    "    \n",
    "    def artifact_scores(self):\n",
    "        return self.artifact_scores_by_count\n",
    "    \n",
    "    def non_artifact_scores(self):\n",
    "        return self.non_artifact_scores_by_count\n",
    "    \n",
    "    def worst_missed_variants(self, alt_count):\n",
    "        alt_count_bin = round_alt_count_for_binning(alt_count)\n",
    "        #sort from highest score to lowest\n",
    "        return sorted(self.missed_variants_by_count[alt_count_bin], key=lambda x: -x[0])\n",
    "    \n",
    "    def worst_missed_artifacts(self, alt_count):\n",
    "        alt_count_bin = round_alt_count_for_binning(alt_count)\n",
    "        #sort from highest score to lowest\n",
    "        return sorted(self.missed_artifacts_by_count[alt_count_bin], key=lambda x: x[0])\n",
    "        \n",
    "       \n",
    "    "
   ]
  },
  {
   "cell_type": "code",
   "execution_count": 53,
   "metadata": {},
   "outputs": [],
   "source": [
    "#note the m2 filters to keep here are different from those used to generate the training data\n",
    "# above, they were filters that are not artifacts, such as germline, contamination, and weak evidence\n",
    "# here, they are artifact filters that we intend to use in M3, such as the normal artifact filter\n",
    "\n",
    "#threshold is threshold of logit prediction for considering variant an artifact -- this is a quick way to\n",
    "# explore translating likelihoods from balanced training to posteriors, which we will alter do in a principled way\n",
    "def get_validation_stats(model, loader, m2_filters_to_keep = {}, threshold=0.0):\n",
    "    stats = ValidationStats()\n",
    "\n",
    "    model.train(False)\n",
    "    for batch in loader:\n",
    "        labels = batch.labels()\n",
    "        filters = [m2.filters() for m2 in batch.mutect2_data()]\n",
    "        alt_counts = batch.alt_counts()\n",
    "        predictions = model(batch)\n",
    "        positions = [meta.locus() for meta in batch.metadata()]\n",
    "        for n in range(batch.size()):  \n",
    "            truth = 1 if labels[n].item() > 0.5 else 0\n",
    "            pred = 1 if (predictions[n] > threshold or filters[n].intersection(m2_filters_to_keep)) else 0   \n",
    "            stats.add(alt_counts[n].item(), truth, pred, predictions[n].item(), filters[n], positions[n])\n",
    "            \n",
    "    return stats"
   ]
  },
  {
   "cell_type": "code",
   "execution_count": 59,
   "metadata": {},
   "outputs": [],
   "source": [
    "# get the same stats for Mutect2 using the M2 filters and truth labels\n",
    "def get_m2_validation_stats(loader):\n",
    "    stats = ValidationStats()\n",
    "\n",
    "    for batch in loader:\n",
    "        labels = batch.labels()\n",
    "        filters = [m2.filters() for m2 in batch.mutect2_data()]\n",
    "        alt_counts = batch.alt_counts()\n",
    "        positions = [meta.locus() for meta in batch.metadata()]\n",
    "        for n in range(batch.size()):  \n",
    "            truth = 1 if labels[n].item() > 0.5 else 0\n",
    "            pred = 0 if 'PASS' in filters[n] else 1  \n",
    "            score = 1 if pred == 1 else -1\n",
    "            stats.add(alt_counts[n].item(), truth, pred, score, filters[n], positions[n])\n",
    "            \n",
    "    return stats"
   ]
  },
  {
   "cell_type": "code",
   "execution_count": 45,
   "metadata": {},
   "outputs": [],
   "source": [
    "BATCH_SIZE = 64\n",
    "\n",
    "train_labels = [datum.artifact_label() for datum in train]\n",
    "valid_labels = [datum.artifact_label() for datum in valid]\n",
    "\n",
    "model = ReadSetClassifier([NUM_READ_FEATURES, 20, 20], [NUM_INFO_FEATURES, 10], [10]).float()\n",
    "class_counts = torch.FloatTensor(np.bincount(train_labels).tolist())\n",
    "samples_per_epoch = 20*int(class_counts[1]) #epoch should roughly go over every artifact O(1) times, but more than once because we want to squeeze more out of the non-artifact\n",
    "\n",
    "class_weights = 1.0/class_counts\n",
    "\n",
    "train_sampler = torch.utils.data.WeightedRandomSampler(weights=class_weights[train_labels], num_samples = samples_per_epoch)\n",
    "    \n",
    "train_loader = DataLoader(dataset=train, batch_size=BATCH_SIZE, sampler=train_sampler, collate_fn=collate_read_sets, drop_last=True)\n",
    "valid_loader = DataLoader(dataset=valid, batch_size=BATCH_SIZE, collate_fn=collate_read_sets, drop_last=True)\n",
    "test_loader = DataLoader(dataset=test, batch_size=BATCH_SIZE, collate_fn=collate_read_sets, drop_last=True)\n",
    "\n",
    "#criterion = nn.BCEWithLogitsLoss(pos_weight=torch.tensor([NON_ARTIFACT_PER_ARTIFACT]))\n",
    "criterion = nn.BCEWithLogitsLoss()\n",
    "optimizer = torch.optim.Adam(model.parameters())\n",
    "\n",
    "# track loss and accuracy as map from alt count bins to lists by epoch\n",
    "train_losses = []\n",
    "valid_losses = []\n",
    "test_losses = []"
   ]
  },
  {
   "cell_type": "code",
   "execution_count": 47,
   "metadata": {
    "colab": {
     "base_uri": "https://localhost:8080/",
     "height": 951
    },
    "id": "KAknfUNOJh1X",
    "outputId": "4bca08e2-0730-43e1-c8ab-82223db178d8"
   },
   "outputs": [
    {
     "data": {
      "image/png": "[encoded data removed]",
      "text/plain": [
       "<Figure size 432x288 with 1 Axes>"
      ]
     },
     "metadata": {
      "needs_background": "light"
     },
     "output_type": "display_data"
    },
    {
     "data": {
      "image/png": "[encoded data removed]",
      "text/plain": [
       "<Figure size 432x288 with 1 Axes>"
      ]
     },
     "metadata": {
      "needs_background": "light"
     },
     "output_type": "display_data"
    }
   ],
   "source": [
    "EPOCHS = 25\n",
    "for epoch in range(0, EPOCHS):\n",
    "    for (loader, losses, epoch_type) in [(train_loader, train_losses, \"training\"), (valid_loader, valid_losses, \"validating\"), (test_loader, test_losses, \"testing\")]:   \n",
    "        is_training = epoch_type == \"training\"\n",
    "        model.train(is_training)\n",
    "        epoch_loss = 0\n",
    "\n",
    "        for batch_number, batch in enumerate(loader):\n",
    "            if batch_number % 1000 == 0:\n",
    "                print(\"Epoch \" + str(epoch) +\": \" + epoch_type + \" batch \" + str(batch_number))\n",
    "                clear_output(wait=True)\n",
    "            \n",
    "            predictions = model(batch)              \n",
    "            loss = criterion(predictions, batch.labels())\n",
    "            epoch_loss += loss.item()\n",
    "          \n",
    "            if is_training:\n",
    "                optimizer.zero_grad()\n",
    "                loss.backward()\n",
    "                optimizer.step()\n",
    "        losses.append(epoch_loss / (len(loader)*BATCH_SIZE))\n",
    "    # end of epoch\n",
    "# model is trained\n",
    "\n",
    "fig, learning_curve = plot_learning_curves(train_losses, valid_losses) \n",
    "fig2, learning_curve2 = plot_learning_curves(train_losses, test_losses) "
   ]
  },
  {
   "cell_type": "code",
   "execution_count": 170,
   "metadata": {},
   "outputs": [
    {
     "name": "stdout",
     "output_type": "stream",
     "text": [
      "Before temperature - NLL: 0.160\n",
      "Optimal temperature: 1.372\n",
      "After temperature - NLL: 0.155\n"
     ]
    },
    {
     "data": {
      "text/plain": [
       "TemperatureScaledReadSetClassifier(\n",
       "  (model): ReadSetClassifier(\n",
       "    (phi): LinearStack(\n",
       "      (layers): ModuleList(\n",
       "        (0): Linear(in_features=11, out_features=20, bias=True)\n",
       "        (1): Linear(in_features=20, out_features=20, bias=True)\n",
       "      )\n",
       "      (bn): ModuleList()\n",
       "    )\n",
       "    (omega): LinearStack(\n",
       "      (layers): ModuleList(\n",
       "        (0): Linear(in_features=5, out_features=10, bias=True)\n",
       "      )\n",
       "      (bn): ModuleList()\n",
       "    )\n",
       "    (rho): LinearStack(\n",
       "      (layers): ModuleList(\n",
       "        (0): Linear(in_features=50, out_features=10, bias=True)\n",
       "        (1): Linear(in_features=10, out_features=1, bias=True)\n",
       "      )\n",
       "      (bn): ModuleList()\n",
       "    )\n",
       "  )\n",
       ")"
      ]
     },
     "execution_count": 170,
     "metadata": {},
     "output_type": "execute_result"
    }
   ],
   "source": [
    "calibrated_model = TemperatureScaledReadSetClassifier(model)\n",
    "calibrated_model.set_temperature(valid_loader)"
   ]
  },
  {
   "cell_type": "code",
   "execution_count": 55,
   "metadata": {},
   "outputs": [
    {
     "data": {
      "text/plain": [
       "(<Figure size 720x720 with 9 Axes>,\n",
       " array([[<matplotlib.axes._subplots.AxesSubplot object at 0x7fcc51a0de50>,\n",
       "         <matplotlib.axes._subplots.AxesSubplot object at 0x7fcc51ab43d0>,\n",
       "         <matplotlib.axes._subplots.AxesSubplot object at 0x7fcc51b01160>],\n",
       "        [<matplotlib.axes._subplots.AxesSubplot object at 0x7fcc51b6c8b0>,\n",
       "         <matplotlib.axes._subplots.AxesSubplot object at 0x7fcc51bc60a0>,\n",
       "         <matplotlib.axes._subplots.AxesSubplot object at 0x7fcc51c1aa90>],\n",
       "        [<matplotlib.axes._subplots.AxesSubplot object at 0x7fcc51c5dd00>,\n",
       "         <matplotlib.axes._subplots.AxesSubplot object at 0x7fcc51c71e20>,\n",
       "         <matplotlib.axes._subplots.AxesSubplot object at 0x7fcc51d1f9d0>]],\n",
       "       dtype=object))"
      ]
     },
     "execution_count": 55,
     "metadata": {},
     "output_type": "execute_result"
    },
    {
     "data": {
      "image/png": "[encoded data removed]",
      "text/plain": [
       "<Figure size 432x288 with 1 Axes>"
      ]
     },
     "metadata": {
      "needs_background": "light"
     },
     "output_type": "display_data"
    },
    {
     "data": {
      "image/png": "[encoded data removed]",
      "text/plain": [
       "<Figure size 720x720 with 9 Axes>"
      ]
     },
     "metadata": {
      "needs_background": "light"
     },
     "output_type": "display_data"
    }
   ],
   "source": [
    "valid_stats = get_validation_stats(model, valid_loader)      \n",
    "plot_sensitivities(valid_stats.confusion_matrices(), \"model on unsupervised validation set\")\n",
    "plot_scores(valid_stats.artifact_scores(), valid_stats.non_artifact_scores(), \"validation\")"
   ]
  },
  {
   "cell_type": "code",
   "execution_count": 56,
   "metadata": {},
   "outputs": [
    {
     "data": {
      "text/plain": [
       "(<Figure size 720x720 with 9 Axes>,\n",
       " array([[<matplotlib.axes._subplots.AxesSubplot object at 0x7fcc52b26cd0>,\n",
       "         <matplotlib.axes._subplots.AxesSubplot object at 0x7fcc52ae4220>,\n",
       "         <matplotlib.axes._subplots.AxesSubplot object at 0x7fcc52b581f0>],\n",
       "        [<matplotlib.axes._subplots.AxesSubplot object at 0x7fcc52bcf6d0>,\n",
       "         <matplotlib.axes._subplots.AxesSubplot object at 0x7fcc52c12610>,\n",
       "         <matplotlib.axes._subplots.AxesSubplot object at 0x7fcc52c5c550>],\n",
       "        [<matplotlib.axes._subplots.AxesSubplot object at 0x7fcc52c92100>,\n",
       "         <matplotlib.axes._subplots.AxesSubplot object at 0x7fcc52ca3220>,\n",
       "         <matplotlib.axes._subplots.AxesSubplot object at 0x7fcc52d33d60>]],\n",
       "       dtype=object))"
      ]
     },
     "execution_count": 56,
     "metadata": {},
     "output_type": "execute_result"
    },
    {
     "data": {
      "image/png": "[encoded data removed]",
      "text/plain": [
       "<Figure size 432x288 with 1 Axes>"
      ]
     },
     "metadata": {
      "needs_background": "light"
     },
     "output_type": "display_data"
    },
    {
     "data": {
      "image/png": "[encoded data removed]",
      "text/plain": [
       "<Figure size 720x720 with 9 Axes>"
      ]
     },
     "metadata": {
      "needs_background": "light"
     },
     "output_type": "display_data"
    }
   ],
   "source": [
    "test_stats = get_validation_stats(model, test_loader, {'normal_artifact'}, -4)\n",
    "plot_sensitivities(test_stats.confusion_matrices(), \"model on test set\")\n",
    "plot_scores(test_stats.artifact_scores(), test_stats.non_artifact_scores(), \"test\")"
   ]
  },
  {
   "cell_type": "code",
   "execution_count": 60,
   "metadata": {},
   "outputs": [
    {
     "data": {
      "text/plain": [
       "(<Figure size 432x288 with 1 Axes>,\n",
       " <matplotlib.axes._subplots.AxesSubplot at 0x7fcc536b8c10>)"
      ]
     },
     "execution_count": 60,
     "metadata": {},
     "output_type": "execute_result"
    },
    {
     "data": {
      "image/png": "[encoded data removed]",
      "text/plain": [
       "<Figure size 432x288 with 1 Axes>"
      ]
     },
     "metadata": {
      "needs_background": "light"
     },
     "output_type": "display_data"
    }
   ],
   "source": [
    "m2_stats = get_m2_validation_stats(test_loader)\n",
    "plot_sensitivities(m2_stats.confusion_matrices(), \"Mutect2 on test set\")"
   ]
  },
  {
   "cell_type": "code",
   "execution_count": 61,
   "metadata": {},
   "outputs": [
    {
     "name": "stdout",
     "output_type": "stream",
     "text": [
      "(0.9685767097966729, 0.9785247432306255)\n",
      "(0.9131238447319778, 0.9664166938376263)\n"
     ]
    }
   ],
   "source": [
    "print((test_stats.sensitivity(), test_stats.precision()))\n",
    "print((m2_stats.sensitivity(), m2_stats.precision()))"
   ]
  },
  {
   "cell_type": "code",
   "execution_count": 198,
   "metadata": {},
   "outputs": [
    {
     "data": {
      "text/plain": [
       "([[2986, 156], [121, 7041]], [[2866, 276], [72, 7090]])"
      ]
     },
     "execution_count": 198,
     "metadata": {},
     "output_type": "execute_result"
    }
   ],
   "source": [
    "test_stats.confusion, m2_stats.confusion"
   ]
  },
  {
   "cell_type": "code",
   "execution_count": 86,
   "metadata": {},
   "outputs": [
    {
     "data": {
      "text/plain": [
       "[(0.1896074116230011, '3:154213414', {'haplotype', 'panel_of_normals'}),\n",
       " (0.2702466547489166, '2:171894122', {'haplotype', 'panel_of_normals'}),\n",
       " (0.3536185920238495, '13:61787604', {'PASS'}),\n",
       " (0.40648579597473145, '6:104947544', {'haplotype', 'panel_of_normals'}),\n",
       " (0.4086052179336548, '3:154213412', {'haplotype', 'panel_of_normals'}),\n",
       " (0.4946744740009308, '4:45495101', {'PASS'}),\n",
       " (0.5664034485816956, 'X:41190284', {'panel_of_normals'}),\n",
       " (0.632560670375824,\n",
       "  '8:10853035',\n",
       "  {'clustered_events', 'haplotype', 'panel_of_normals'}),\n",
       " (0.7032024264335632,\n",
       "  '3:15608348',\n",
       "  {'clustered_events', 'haplotype', 'panel_of_normals'}),\n",
       " (0.8218171000480652, '2:212329707', {'panel_of_normals'}),\n",
       " (0.9268468022346497, '3:63428587', {'panel_of_normals'}),\n",
       " (1.016925573348999, '7:11286850', {'haplotype', 'panel_of_normals'}),\n",
       " (1.129881739616394, '6:20927169', {'haplotype', 'panel_of_normals'}),\n",
       " (1.1746221780776978, '11:42435619', {'PASS'}),\n",
       " (1.2398161888122559, '5:126650182', {'panel_of_normals'}),\n",
       " (1.2551391124725342, '8:142642952', {'panel_of_normals'}),\n",
       " (1.3378769159317017, '12:82300198', {'haplotype', 'panel_of_normals'}),\n",
       " (1.3458583354949951, '4:180904693', {'panel_of_normals'}),\n",
       " (1.3746026754379272,\n",
       "  '6:451010',\n",
       "  {'base_qual', 'clustered_events', 'haplotype'}),\n",
       " (1.457517385482788, '15:22029018', {'map_qual', 'panel_of_normals'}),\n",
       " (1.4717248678207397, '18:27452792', {'panel_of_normals'}),\n",
       " (1.5473811626434326, '2:13117395', {'clustered_events', 'panel_of_normals'}),\n",
       " (1.5725032091140747, '18:57852948', {'panel_of_normals'}),\n",
       " (1.612059473991394,\n",
       "  '5:70112548',\n",
       "  {'haplotype', 'map_qual', 'panel_of_normals'}),\n",
       " (1.640435814857483, '2:941405', {'clustered_events'}),\n",
       " (1.6582051515579224, '6:451007', {'clustered_events', 'haplotype'}),\n",
       " (1.6598230600357056, '3:24780514', {'panel_of_normals'}),\n",
       " (1.722525715827942, '6:10170557', {'clustered_events', 'panel_of_normals'}),\n",
       " (1.7294561862945557,\n",
       "  '13:57501898',\n",
       "  {'haplotype', 'panel_of_normals', 'slippage'}),\n",
       " (1.7314072847366333, '3:130087389', {'panel_of_normals', 'slippage'}),\n",
       " (1.7419426441192627, '8:77159835', {'slippage'}),\n",
       " (1.7481448650360107, '17:62902851', {'map_qual', 'panel_of_normals'}),\n",
       " (1.753645658493042,\n",
       "  '10:117293887',\n",
       "  {'clustered_events', 'haplotype', 'panel_of_normals'}),\n",
       " (1.7774674892425537, '4:183046109', {'panel_of_normals'}),\n",
       " (1.7837430238723755, '3:196066247', {'panel_of_normals'}),\n",
       " (1.7900028228759766, 'X:2337864', {'base_qual'}),\n",
       " (1.8070685863494873, '4:66241504', {'panel_of_normals', 'slippage'}),\n",
       " (1.9064998626708984,\n",
       "  '11:58864405',\n",
       "  {'clustered_events', 'haplotype', 'panel_of_normals'}),\n",
       " (1.9383265972137451, '6:43126070', {'base_qual', 'clustered_events'}),\n",
       " (2.017517328262329, '5:40023675', {'base_qual', 'clustered_events'}),\n",
       " (2.075338363647461,\n",
       "  '16:63218322',\n",
       "  {'base_qual', 'clustered_events', 'panel_of_normals'}),\n",
       " (2.0849711894989014, '12:109599544', {'haplotype', 'panel_of_normals'}),\n",
       " (2.1134324073791504,\n",
       "  '2:239886808',\n",
       "  {'clustered_events', 'haplotype', 'panel_of_normals'}),\n",
       " (2.1393377780914307,\n",
       "  '12:101628962',\n",
       "  {'clustered_events', 'panel_of_normals'}),\n",
       " (2.1780214309692383, '9:69423641', {'map_qual', 'panel_of_normals'}),\n",
       " (2.1812210083007812, '21:9678846', {'clustered_events', 'panel_of_normals'}),\n",
       " (2.203063488006592, '12:74099938', {'panel_of_normals', 'slippage'}),\n",
       " (2.210733413696289, '9:138219857', {'panel_of_normals'}),\n",
       " (2.238015651702881, '17:18314142', {'map_qual', 'panel_of_normals'}),\n",
       " (2.2521443367004395, 'X:79470635', {'clustered_events', 'haplotype'}),\n",
       " (2.2692925930023193,\n",
       "  '11:82063900',\n",
       "  {'haplotype', 'map_qual', 'panel_of_normals'}),\n",
       " (2.2959959506988525,\n",
       "  '10:135461761',\n",
       "  {'clustered_events', 'panel_of_normals'}),\n",
       " (2.297791004180908,\n",
       "  '6:169462728',\n",
       "  {'haplotype', 'map_qual', 'panel_of_normals'}),\n",
       " (2.3369736671447754,\n",
       "  '9:44111192',\n",
       "  {'clustered_events', 'map_qual', 'panel_of_normals'}),\n",
       " (2.382624387741089, '11:19849691', {'clustered_events', 'haplotype'}),\n",
       " (2.388922929763794,\n",
       "  '19:27739209',\n",
       "  {'clustered_events', 'haplotype', 'strand_bias'}),\n",
       " (2.4777424335479736,\n",
       "  '17:2713326',\n",
       "  {'base_qual',\n",
       "   'clustered_events',\n",
       "   'haplotype',\n",
       "   'panel_of_normals',\n",
       "   'strand_bias'}),\n",
       " (2.5164225101470947, '19:27739226', {'clustered_events', 'haplotype'}),\n",
       " (2.5264406204223633, '10:39141499', {'clustered_events'}),\n",
       " (2.5295000076293945,\n",
       "  '10:104369',\n",
       "  {'clustered_events', 'haplotype', 'map_qual', 'panel_of_normals'}),\n",
       " (2.536545515060425, '6:156714203', {'panel_of_normals'}),\n",
       " (2.5414493083953857, '19:27739234', {'clustered_events', 'haplotype'}),\n",
       " (2.5451788902282715, '12:70405411', {'panel_of_normals', 'slippage'}),\n",
       " (2.5733282566070557, '16:5504975', {'clustered_events'}),\n",
       " (2.585627794265747, '14:58907006', {'slippage'}),\n",
       " (2.6022374629974365, '19:27739242', {'clustered_events', 'haplotype'})]"
      ]
     },
     "execution_count": 86,
     "metadata": {},
     "output_type": "execute_result"
    }
   ],
   "source": [
    "test_stats.worst_missed_artifacts(5)"
   ]
  },
  {
   "cell_type": "code",
   "execution_count": null,
   "metadata": {},
   "outputs": [],
   "source": []
  }
 ],
 "metadata": {
  "colab": {
   "name": "mutect3.ipynb",
   "provenance": []
  },
  "kernelspec": {
   "display_name": "Python 3",
   "language": "python",
   "name": "python3"
  },
  "language_info": {
   "codemirror_mode": {
    "name": "ipython",
    "version": 3
   },
   "file_extension": ".py",
   "mimetype": "text/x-python",
   "name": "python",
   "nbconvert_exporter": "python",
   "pygments_lexer": "ipython3",
   "version": "3.8.3"
  }
 },
 "nbformat": 4,
 "nbformat_minor": 1
}
