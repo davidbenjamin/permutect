{
 "cells": [
  {
   "cell_type": "code",
   "execution_count": 103,
   "metadata": {
    "id": "lJSaK5vvJh04"
   },
   "outputs": [],
   "source": [
    "import numpy as np\n",
    "import pickle\n",
    "import torch\n",
    "import random\n",
    "from torch import nn\n",
    "from torch import optim\n",
    "from torch.utils.data import DataLoader, Dataset\n",
    "from torch.utils.data import random_split\n",
    "from torch.autograd import Variable\n",
    "import matplotlib.pyplot as plt\n",
    "import statistics\n",
    "from collections import defaultdict\n",
    "\n",
    "from ipywidgets import IntSlider, Output, widgets\n",
    "from IPython.display import display, clear_output\n",
    "\n",
    "%matplotlib inline"
   ]
  },
  {
   "cell_type": "code",
   "execution_count": null,
   "metadata": {},
   "outputs": [],
   "source": [
    "# copied from gpleiss/temperature_scaling github repo\n",
    "# use as follows\n",
    "\n",
    "# orig_model = ... # create an uncalibrated model somehow\n",
    "# valid_loader = ... # Create a DataLoader from the SAME VALIDATION SET used to train orig_model\n",
    "\n",
    "# calibrated_model = ModelWithTemperature(orig_model)\n",
    "# calibrated_model.set_temperature(valid_loader)"
   ]
  },
  {
   "cell_type": "code",
   "execution_count": 116,
   "metadata": {
    "id": "B9BAwZreZ10R"
   },
   "outputs": [],
   "source": [
    "#this is needed to copy training data in google buckets produced by Terra to the mounted google drive\n",
    "#it is not needed when the tables are already in google drive\n",
    "#from google.colab import auth\n",
    "#auth.authenticate_user()\n",
    "#!gsutil cp  gs://<path> '/content/drive/My Drive/mutect3-training-data/dream1-normal.table'\n",
    "#!gsutil cp gs://<path> '/content/drive/My Drive/mutect3-training-data/dream1-tumor.table'"
   ]
  },
  {
   "cell_type": "code",
   "execution_count": 19,
   "metadata": {},
   "outputs": [],
   "source": [
    "NUM_READ_FEATURES = 11  #size of each read's feature vector from M2 annotation\n",
    "NUM_INFO_FEATURES = 5   # size of each variant's info field tensor (3 components for HEC, one each for HAPDOM, HAPCOMP)\n",
    "REF_DOWNSAMPLE = 10 # choose this many ref reads randomly\n",
    "MIN_REF = 5\n",
    "ARTIFACT_POPAF_THRESHOLD = 5.9 # only let things absent from gnomAD be artifacts out of caution\n",
    "GERMLINE_POPAF_THRESHOLD = 1 #also very cautious.  There are so many germline variants we can be wasteful!\n",
    "TLOD_THRESHOLD = 6 # we are classified artifacts other than sequencing errors described by base qualities\n",
    "NON_ARTIFACT_PER_ARTIFACT = 50 #ratio of non-artifact to artifact in unsupervised training data"
   ]
  },
  {
   "cell_type": "code",
   "execution_count": 20,
   "metadata": {
    "id": "w5Gc0LkYpSaI"
   },
   "outputs": [],
   "source": [
    "#as a quick and robust estimate of the mean for the purpose of normalizing, we will take the median of medians of subsets\n",
    "#for example, take the median of each group of 100 read sets, then take the median of those\n",
    "NUM_SETS_PER_MEAN = 100\n",
    "\n",
    "def find_normalization(data):\n",
    "    medians = []\n",
    "    spreads = []\n",
    "    buffer = []\n",
    "    for n, (ref_tensor, _, _) in enumerate(data):\n",
    "        buffer.append(ref_tensor)\n",
    "        \n",
    "        if n > 0 and n % NUM_SETS_PER_MEAN == 0:\n",
    "            medians.append(torch.quantile(torch.cat(buffer, dim=0), 0.5, dim=0))\n",
    "            low_quantile = torch.quantile(torch.cat(buffer, dim=0), 0.02, dim=0)\n",
    "            high_quantile = torch.quantile(torch.cat(buffer, dim=0), 0.98, dim=0)\n",
    "            spreads.append(high_quantile - low_quantile)\n",
    "            buffer.clear()\n",
    "    mu = torch.median(torch.stack(medians), dim=0).values\n",
    "    sigma = torch.median(torch.stack(spreads), dim=0).values\n",
    "    \n",
    "    return mu, sigma\n",
    "\n",
    "def normalize(data, mu, sigma):\n",
    "    return [((ref - mu) / sigma, (alt - mu) / sigma, is_artifact) for ref, alt, is_artifact in data]"
   ]
  },
  {
   "cell_type": "code",
   "execution_count": 25,
   "metadata": {},
   "outputs": [],
   "source": [
    "def index_if_exists(lis, element):\n",
    "    return lis.index(element) if element in lis else None\n",
    "\n",
    "def get_indices(lis, elements):\n",
    "    return tuple(index_if_exists(lis, element) for element in elements)\n",
    "\n",
    "ALLELE_SEPARATOR = '|'\n",
    "# get the ref and alt tensors from the VariantsToTable raw output, convert to torch tensors, downsample ref if needed\n",
    "def get_read_tensors(token, ref_downsample=None):\n",
    "    tokens = token.split(ALLELE_SEPARATOR)\n",
    "    ref, alt = tuple(np.fromstring(x, dtype=int, sep=',').reshape((-1, NUM_READ_FEATURES)) for x in tokens)\n",
    "    ref, alt = torch.from_numpy(ref).float(), torch.from_numpy(alt).float()\n",
    "    if (ref_downsample is not None and len(ref) > ref_downsample):\n",
    "        ref = ref[torch.randperm(len(ref))[:ref_downsample]]\n",
    "    return ref, alt\n",
    "\n",
    "class TableReader:\n",
    "    def __init__(self, header_tokens, tumor_sample, normal_sample=None):\n",
    "        \n",
    "        # site data\n",
    "        self.chrom_idx, self.pos_idx, self.ref_allele_idx, self.alt_allele_idx, self.popaf_idx = \\\n",
    "            get_indices(header_tokens, [\"CHROM\", \"POS\", \"REF\", \"ALT\", \"POPAF\"])\n",
    "        \n",
    "        # variant data\n",
    "        self.filter_idx, self.status_idx, self.tlod_idx, self.tumor_dp_idx, self.tumor_idx = \\\n",
    "            get_indices(header_tokens, [\"FILTER\", \"STATUS\", \"TLOD\", tumor_sample + \".DP\", tumor_sample + \".FRS\"])\n",
    "        \n",
    "        # assembly complexity data -- haplotype equivalence counts, haplotype complexity, haplotype dominance\n",
    "        self.hec_idx, self.hapcomp_idx, self.hapdom_idx = get_indices(header_tokens, [\"HEC\", \"HAPCOMP\", \"HAPDOM\"])\n",
    "        \n",
    "        # optional normal data\n",
    "        if normal_sample is not None:\n",
    "            self.normal_idx, self.normal_dp_idx = get_indices(header_tokens, [normal_sample + \".FRS\", normal_sample + \".DP\"])\n",
    "    \n",
    "    def hec(self, tokens):\n",
    "        counts = tokens[self.hec_idx].split(\",\")\n",
    "        if (len(counts) == 1):\n",
    "            return [1.0, 0.0, 0.0]\n",
    "        else:\n",
    "            counts = [float(x) for x in counts]\n",
    "            while len(counts) < 3:\n",
    "                counts.append(0.0)\n",
    "            total = counts[0] + counts[1] + counts[2]\n",
    "            return [counts[0]/total, counts[1]/total, counts[2]/total]\n",
    "        return int(tokens[self.hec_idx])\n",
    "    \n",
    "    def hapcomp(self, tokens):\n",
    "        return int(tokens[self.hapcomp_idx])\n",
    "    \n",
    "    def hapdom(self, tokens):\n",
    "        return float(tokens[self.hapdom_idx])\n",
    "        \n",
    "    def chrom(self, tokens):\n",
    "        return tokens[self.chrom_idx]\n",
    "    \n",
    "    def pos(self, tokens):\n",
    "        return int(tokens[self.pos_idx])\n",
    "    \n",
    "    def ref_allele(self, tokens):\n",
    "        return tokens[self.ref_allele_idx]\n",
    "    \n",
    "    def alt_allele(self, tokens):\n",
    "        return tokens[self.alt_allele_idx]\n",
    "    \n",
    "    def popaf(self, tokens):\n",
    "        return float(tokens[self.popaf_idx])\n",
    "    \n",
    "    def filters(self, tokens):\n",
    "        return set(tokens[self.filter_idx].split(\",\"))\n",
    "    \n",
    "    def status(self, tokens):\n",
    "        return tokens[self.status_idx]\n",
    "    \n",
    "    def tlod(self, tokens):\n",
    "        return float(tokens[self.tlod_idx])\n",
    "    \n",
    "    def tumor_dp(self, tokens):\n",
    "        return int(tokens[self.tumor_dp_idx])\n",
    "    \n",
    "    def tumor_ref_and_alt(self, tokens, ref_downsample=None):\n",
    "        return get_read_tensors(tokens[self.tumor_idx], ref_downsample)\n",
    "    \n",
    "    def normal_dp(self, tokens):\n",
    "        return int(tokens[self.normal_dp_idx])\n",
    "    \n",
    "    def normal_ref_and_alt(self, tokens, ref_downsample=None):\n",
    "        return get_read_tensors(tokens[self.normal_idx], ref_downsample)"
   ]
  },
  {
   "cell_type": "code",
   "execution_count": 47,
   "metadata": {
    "id": "MeJClM28Jh07"
   },
   "outputs": [],
   "source": [
    "M2_KEPT_FILTERS = {\"contamination\", \"germline\", \"weak_evidence\"} #M2 filters that M3 won't override\n",
    "\n",
    "# this takes a table from VariantsToTable and produces a list of either\n",
    "# (ref tensor, alt tensor, and unsupervised label based on AF) if is_training = true\n",
    "# (ref tensor, alt tensor, (position, filters, status)) if is_training = false\n",
    "def make_tensors(raw_file, is_training, sample_name, normal_sample_name=None):\n",
    "    data = []\n",
    "    artifact_counts_and_depths = []\n",
    "            \n",
    "    # simple online method for balanced data set where for each k-alt-read artifact there are \n",
    "    # NON_ARTIFACT_PER_ARTIFACT (downsampled) k-alt-read non-artifacts.  That is, alt count is not an informative feature.\n",
    "    unmatched_artifact_counts = []\n",
    "    \n",
    "    still_filtered = 0\n",
    "    \n",
    "    with open(raw_file) as fp: \n",
    "        reader = TableReader(fp.readline().split(), sample_name, normal_sample_name)\n",
    "        \n",
    "        for n, line in enumerate(fp):\n",
    "            if n % 100000 == 0:\n",
    "                print(\"Processing line \" + str(n))\n",
    "                \n",
    "            tokens = line.split()\n",
    "            ref_allele, alt_allele, popaf = reader.ref_allele(tokens), reader.alt_allele(tokens), reader.popaf(tokens)\n",
    "            tlod, tumor_dp, filters, status = reader.tlod(tokens), reader.tumor_dp(tokens), reader.filters(tokens), reader.status(tokens)\n",
    "            position = reader.chrom(tokens) + \":\" + str(reader.pos(tokens))\n",
    "\n",
    "            # we trust the germline, contamination, and weak evidence filters.  M3 will not override these.\n",
    "            if not is_training and M2_KEPT_FILTERS.intersection(filters):\n",
    "                still_filtered += 1\n",
    "                continue        \n",
    "\n",
    "            # don't bother processing tensors if it's a plain old sequencing error or if popaf is middling\n",
    "            if tlod < TLOD_THRESHOLD or (GERMLINE_POPAF_THRESHOLD < popaf < ARTIFACT_POPAF_THRESHOLD):\n",
    "                continue\n",
    "\n",
    "            #TODO: this considers everything with low AF, low POPAF, and TLOD sufficiently high not to be plain old\n",
    "            #TODO: sequencing error to be an artifact.  This is not the case when we are training on a tumor sample.\n",
    "            #TODO: however, it might still work if we have some real variants in the training data\n",
    "            ref_tensor, alt_tensor = reader.tumor_ref_and_alt(tokens, REF_DOWNSAMPLE)\n",
    "            alt_count = len(alt_tensor)\n",
    "            if alt_count == 0 or len(ref_tensor) < MIN_REF:\n",
    "                continue\n",
    "                \n",
    "            af = alt_count / tumor_dp\n",
    "            if is_training:\n",
    "                normal_af = 0\n",
    "                if normal_sample_name is not None:\n",
    "                    normal_dp = reader.normal_dp(tokens)\n",
    "                    normal_ref, normal_alt = reader.normal_ref_and_alt(tokens, REF_DOWNSAMPLE)\n",
    "                    normal_af = 0 if normal_dp == 0 else len(normal_alt) / normal_dp\n",
    "                    #TODO: output normal alt reads in dataset\n",
    "\n",
    "                #primitive calling of artifact vs germline het!!\n",
    "                if normal_af < 0.2 and af < 0.2 and popaf > ARTIFACT_POPAF_THRESHOLD: \n",
    "                    unmatched_artifact_counts.extend([alt_count]*NON_ARTIFACT_PER_ARTIFACT)\n",
    "                    artifact_counts_and_depths.append((alt_count, tumor_dp))\n",
    "                elif normal_af > 0.35 and af > 0.35 and popaf < GERMLINE_POPAF_THRESHOLD and unmatched_artifact_counts:\n",
    "                    downsample_count = min(alt_count, unmatched_artifact_counts.pop())\n",
    "                    alt_tensor = alt_tensor[torch.randperm(alt_count)[:downsample_count]]\n",
    "                else:\n",
    "                    continue\n",
    "                    \n",
    "            # assembly complexity site-level annotations\n",
    "            info = reader.hec(tokens)\n",
    "            info.append(reader.hapcomp(tokens))\n",
    "            info.append(reader.hapdom(tokens))\n",
    "            info_tensor = torch.FloatTensor(info)\n",
    "\n",
    "            # use AF for unsupervised training;\n",
    "            is_artifact = (1 if af < 0.2 else 0) if is_training else (1 if (status == \"FP\" or status == \"FTN\") else 0)            \n",
    "            data.append((ref_tensor, alt_tensor, info_tensor, (position, filters, is_artifact)))\n",
    "\n",
    "    if not is_training:\n",
    "        print(str(still_filtered) + \" variants skipped due to trusted M2 filters.\")\n",
    "    return data, artifact_counts_and_depths"
   ]
  },
  {
   "cell_type": "code",
   "execution_count": 48,
   "metadata": {
    "colab": {
     "base_uri": "https://localhost:8080/",
     "height": 447
    },
    "id": "NPceqfjFJh0_",
    "outputId": "dcb8eb07-6aab-44c1-b784-c5f66ec37fad",
    "scrolled": false
   },
   "outputs": [
    {
     "name": "stdout",
     "output_type": "stream",
     "text": [
      "Processing line 0\n",
      "Processing line 100000\n",
      "Processing line 200000\n",
      "Processing line 300000\n",
      "Processing line 400000\n",
      "Processing line 500000\n",
      "Processing line 600000\n",
      "Processing line 700000\n",
      "Processing line 800000\n",
      "Processing line 900000\n",
      "Processing line 1000000\n",
      "Processing line 1100000\n",
      "Processing line 1200000\n",
      "Processing line 1300000\n",
      "Processing line 1400000\n",
      "Processing line 1500000\n",
      "Processing line 1600000\n",
      "Processing line 1700000\n",
      "Processing line 1800000\n",
      "Processing line 1900000\n",
      "Processing line 2000000\n",
      "Processing line 2100000\n",
      "Processing line 2200000\n",
      "Processing line 2300000\n",
      "Processing line 2400000\n",
      "Processing line 2500000\n",
      "Processing line 2600000\n",
      "Processing line 2700000\n",
      "Processing line 2800000\n",
      "Processing line 2900000\n",
      "Processing line 3000000\n",
      "Processing line 3100000\n",
      "Processing line 3200000\n",
      "Processing line 3300000\n",
      "Processing line 3400000\n",
      "Processing line 3500000\n",
      "Processing line 3600000\n",
      "Processing line 3700000\n",
      "Processing line 3800000\n",
      "Processing line 3900000\n",
      "Processing line 4000000\n",
      "Processing line 4100000\n",
      "Processing line 4200000\n",
      "Processing line 0\n",
      "Processing line 100000\n",
      "Processing line 200000\n",
      "Processing line 300000\n",
      "Processing line 400000\n",
      "Processing line 500000\n",
      "Processing line 600000\n",
      "Processing line 700000\n",
      "Processing line 800000\n",
      "Processing line 900000\n",
      "Processing line 1000000\n",
      "Processing line 1100000\n",
      "Processing line 1200000\n",
      "Processing line 1300000\n",
      "Processing line 1400000\n",
      "Processing line 1500000\n",
      "Processing line 1600000\n",
      "Processing line 1700000\n",
      "Processing line 1800000\n",
      "Processing line 1900000\n",
      "Processing line 2000000\n",
      "Processing line 2100000\n",
      "Processing line 2200000\n",
      "Processing line 2300000\n",
      "Processing line 2400000\n",
      "Processing line 2500000\n",
      "Processing line 2600000\n",
      "Processing line 2700000\n",
      "Processing line 2800000\n",
      "Processing line 2900000\n",
      "Processing line 3000000\n",
      "Processing line 3100000\n",
      "Processing line 3200000\n",
      "Processing line 3300000\n",
      "Processing line 3400000\n",
      "Processing line 3500000\n",
      "Processing line 3600000\n",
      "Processing line 3700000\n",
      "Processing line 3800000\n",
      "Processing line 3900000\n",
      "Processing line 4000000\n",
      "Processing line 4100000\n",
      "Processing line 4200000\n",
      "4270619 variants skipped due to trusted M2 filters.\n"
     ]
    }
   ],
   "source": [
    "tumor_file = '/Users/davidben/broad/mutect3/dream1-tumor.table'\n",
    "normal_file = '/Users/davidben/broad/mutect3/dream1-normal.table'\n",
    "pickled_train_file = '/Users/davidben/broad/mutect3/dream1-tumor-train.pickle'\n",
    "pickled_test_file = '/Users/davidben/broad/mutect3/dream1-tumor-test.pickle'\n",
    "\n",
    "tumor_sample = 'synthetic.challenge.set1.tumor'\n",
    "normal_sample = 'synthetic.challenge.set1.normal'\n",
    "\n",
    "# we can train on either the tumor OR the normal!\n",
    "#first find unnormalized data\n",
    "train_data, artifact_counts_and_depths = make_tensors(tumor_file, True, tumor_sample, normal_sample)\n",
    "test_data, _ = make_tensors(tumor_file, False, tumor_sample, normal_sample)\n",
    "\n",
    "#mu, sigma = find_normalization(train_data)\n",
    "#train_data = normalize(train_data, mu, sigma)\n",
    "#test_data = normalize(test_data, mu, sigma)\n",
    "\n",
    "with open(pickled_train_file, 'wb') as f:\n",
    "    pickle.dump(train_data, f)\n",
    "    \n",
    "with open(pickled_test_file, 'wb') as f:\n",
    "    pickle.dump(test_data, f)"
   ]
  },
  {
   "cell_type": "code",
   "execution_count": 49,
   "metadata": {
    "id": "x3jAMcfiJh1C"
   },
   "outputs": [],
   "source": [
    "class Mutect3Dataset(Dataset):\n",
    "    \n",
    "    def __init__(self, pickled_file, augment):\n",
    "        with open(pickled_file, 'rb') as f:\n",
    "            self.data = pickle.load(f)\n",
    "            random.shuffle(self.data)\n",
    "        #elements of feature set are\n",
    "        # map qual, base qual, is first of pair, is reverse,\n",
    "        # left read position, right read position\n",
    "        # fragment length, left fragment position, right fragment position\n",
    "        # SNVs wrt best haplotype, indels wrt best haplotype\n",
    "        self.scale = torch.tensor([60, 30, 1, 1, 100, 100, 500, 500, 500, 1, 1])\n",
    "        \n",
    "        self.augment = augment\n",
    "        \n",
    "    def __len__(self):\n",
    "        return len(self.data)\n",
    "    \n",
    "    # format is ref_tensor, alt_tensor, info_tensor, (position, filters, is_artifact)\n",
    "    def __getitem__(self, index):\n",
    "        ref_tensor, alt_tensor, info_tensor, other_stuff = self.data[index]\n",
    "        \n",
    "        if self.augment:\n",
    "            # strand flip symmetry\n",
    "            if torch.rand(1).item() < 0.5:\n",
    "                ref_tensor[:,3] = 1 - ref_tensor[:,3]\n",
    "                alt_tensor[:,3] = 1 - alt_tensor[:,3]\n",
    "\n",
    "            # left-right symmetry\n",
    "            if torch.rand(1).item() < 0.5:\n",
    "                ref_tensor[:,[4,5]] = ref_tensor[:,[5,4]]\n",
    "                alt_tensor[:,[4,5]] = alt_tensor[:,[5,4]]\n",
    "                ref_tensor[:,[7,8]] = ref_tensor[:,[8,7]]\n",
    "                alt_tensor[:,[7,8]] = alt_tensor[:,[8,7]]\n",
    "            \n",
    "            # downsample alts\n",
    "            if torch.rand(1).item() < 0.5:\n",
    "                alt_count = len(alt_tensor)\n",
    "                downsample_count = torch.randint(alt_count,(1,)).item() + 1\n",
    "                alt_tensor = alt_tensor[torch.randperm(alt_count)[:downsample_count]]\n",
    "        \n",
    "        return ref_tensor/self.scale, alt_tensor/self.scale, info_tensor, other_stuff"
   ]
  },
  {
   "cell_type": "code",
   "execution_count": 50,
   "metadata": {
    "id": "Plj2YeoLJh1E"
   },
   "outputs": [
    {
     "name": "stdout",
     "output_type": "stream",
     "text": [
      "276960 30774 10351\n"
     ]
    }
   ],
   "source": [
    "data = Mutect3Dataset(pickled_train_file, False)\n",
    "train_len = int(0.9*len(data))\n",
    "valid_len = len(data) - train_len\n",
    "train, valid = random_split(data, lengths=[train_len, valid_len])\n",
    "test = Mutect3Dataset(pickled_test_file, False)\n",
    "print(len(train), len(valid), len(test))"
   ]
  },
  {
   "cell_type": "markdown",
   "metadata": {},
   "source": [
    "Measure the quality of our self-supervised labelling.  We calculate the number of \"artifacts\" in our training/validation data that are actually 'PASS'"
   ]
  },
  {
   "cell_type": "code",
   "execution_count": 114,
   "metadata": {},
   "outputs": [
    {
     "name": "stdout",
     "output_type": "stream",
     "text": [
      "19\n",
      "301700\n"
     ]
    }
   ],
   "source": [
    "print(len([_ for datum in data if 'PASS' in datum[3][1] and datum[3][2] == 1]))\n",
    "print(len([_ for datum in data if 'PASS' not in datum[3][1] and datum[3][2] == 0]))"
   ]
  },
  {
   "cell_type": "code",
   "execution_count": 57,
   "metadata": {
    "colab": {
     "base_uri": "https://localhost:8080/",
     "height": 51
    },
    "id": "oPXYdqRZJh1G",
    "outputId": "8629f3a2-4771-4159-da73-42a81d0a8759"
   },
   "outputs": [
    {
     "name": "stdout",
     "output_type": "stream",
     "text": [
      "[0.0, 172.0, 731.7, 971.36, 1079.8, 902.12, 615.0, 449.24, 231.94, 217.44, 135.08, 70.96, 73.88, 66.82, 51.74, 44.88, 35.18, 31.8, 22.5, 18.78]\n",
      "[0, 172, 731, 968, 1074, 896, 610, 447, 227, 218, 134, 68, 71, 67, 53, 45, 35, 33, 22, 20]\n"
     ]
    }
   ],
   "source": [
    "artifact_alt_counts = np.array([len(datum[1]) for datum in data if datum[3][2] == 1] )\n",
    "non_artifact_alt_counts = np.array([len(datum[1]) for datum in data if datum[3][2] == 0] )\n",
    "print((np.bincount(non_artifact_alt_counts)[0:20]/NON_ARTIFACT_PER_ARTIFACT).tolist())\n",
    "print((np.bincount(artifact_alt_counts)[0:20]).tolist())"
   ]
  },
  {
   "cell_type": "code",
   "execution_count": 58,
   "metadata": {},
   "outputs": [
    {
     "data": {
      "text/plain": [
       "(array([  3.,   4.,   6.,  10.,  13.,  28.,  50.,  55.,  50.,  48.,  61.,\n",
       "         86.,  78.,  88., 107., 161., 170., 155., 183., 257., 143., 231.,\n",
       "        125., 224., 197., 172., 139., 213., 217., 131., 252., 142., 213.,\n",
       "        139., 152., 181., 151., 150., 187., 118., 100., 173.,  84.,  81.,\n",
       "        102., 114.,  75., 108.,  71.,  36.]),\n",
       " array([0.00704225, 0.01087087, 0.01469949, 0.01852812, 0.02235674,\n",
       "        0.02618536, 0.03001398, 0.0338426 , 0.03767122, 0.04149984,\n",
       "        0.04532846, 0.04915708, 0.0529857 , 0.05681432, 0.06064294,\n",
       "        0.06447156, 0.06830018, 0.0721288 , 0.07595742, 0.07978604,\n",
       "        0.08361467, 0.08744329, 0.09127191, 0.09510053, 0.09892915,\n",
       "        0.10275777, 0.10658639, 0.11041501, 0.11424363, 0.11807225,\n",
       "        0.12190087, 0.12572949, 0.12955811, 0.13338673, 0.13721535,\n",
       "        0.14104397, 0.14487259, 0.14870121, 0.15252984, 0.15635846,\n",
       "        0.16018708, 0.1640157 , 0.16784432, 0.17167294, 0.17550156,\n",
       "        0.17933018, 0.1831588 , 0.18698742, 0.19081604, 0.19464466,\n",
       "        0.19847328]),\n",
       " <a list of 50 Patch objects>)"
      ]
     },
     "execution_count": 58,
     "metadata": {},
     "output_type": "execute_result"
    },
    {
     "data": {
      "image/png": "[encoded data removed]",
      "text/plain": [
       "<Figure size 432x288 with 1 Axes>"
      ]
     },
     "metadata": {
      "needs_background": "light"
     },
     "output_type": "display_data"
    }
   ],
   "source": [
    "afs = [count / depth for count,depth in artifact_counts_and_depths]\n",
    "plt.hist(afs, bins=50)"
   ]
  },
  {
   "cell_type": "code",
   "execution_count": 130,
   "metadata": {},
   "outputs": [
    {
     "name": "stdout",
     "output_type": "stream",
     "text": [
      "0\n",
      "Parameter containing:\n",
      "tensor(44.9919, requires_grad=True) Parameter containing:\n",
      "tensor(62.9183, requires_grad=True)\n"
     ]
    },
    {
     "data": {
      "image/png": "[encoded data removed]",
      "text/plain": [
       "<Figure size 432x288 with 1 Axes>"
      ]
     },
     "metadata": {
      "needs_background": "light"
     },
     "output_type": "display_data"
    }
   ],
   "source": [
    "#Now let's learn the spectrum of artifact allele fractions in order to combine our calibrated classifier with priors\n",
    "# to get a posterior probability\n",
    "# the model is alt count ~ BetaBinomial(alpha, beta, depth)\n",
    "# and we want to learn alpha, beta by MLE\n",
    "\n",
    "alpha = nn.Parameter(torch.tensor(1.))\n",
    "beta = nn.Parameter(torch.tensor(1.))\n",
    "\n",
    "learning_rate = 1e-2\n",
    "optimizer = torch.optim.Adam([alpha, beta], lr=learning_rate)\n",
    "\n",
    "alpha_vals = []\n",
    "beta_vals = []\n",
    "\n",
    "for epoch in range(1):\n",
    "    print(epoch)\n",
    "    for step, (k,n) in enumerate(artifact_counts_and_depths):\n",
    "        nll = torch.lgamma(n + alpha + beta) + torch.lgamma(alpha) + torch.lgamma(beta) \\\n",
    "            - torch.lgamma(k + alpha) + torch.lgamma(n - k + beta) - torch.lgamma(alpha + beta)\n",
    "        optimizer.zero_grad()\n",
    "        nll.backward()\n",
    "        optimizer.step()\n",
    "\n",
    "        if step % 100 == 0:\n",
    "            alpha_vals.append(alpha.item())\n",
    "            beta_vals.append(beta.item())\n",
    "\n",
    "plt.plot(alpha_vals)\n",
    "plt.plot(beta_vals)\n",
    "print(alpha, beta)"
   ]
  },
  {
   "cell_type": "code",
   "execution_count": 59,
   "metadata": {
    "id": "c_EOeodfJh1J"
   },
   "outputs": [],
   "source": [
    "class LinearStack(nn.Module):\n",
    "    #layer_sizes starts from the input and ends with the output\n",
    "    #optional batch normalization\n",
    "    def __init__(self, layer_sizes, batch_normalize=False, batch_normalize_input=False):\n",
    "        \n",
    "        super(LinearStack, self).__init__()\n",
    "        \n",
    "        self.layers = nn.ModuleList()\n",
    "        for k in range(len(layer_sizes)-1):\n",
    "            self.layers.append(nn.Linear(layer_sizes[k], layer_sizes[k+1]))\n",
    "            \n",
    "        self.bn = nn.ModuleList()\n",
    "        \n",
    "        self.batch_normalize_input = False\n",
    "        if batch_normalize_input:\n",
    "            self.batch_normalize_input = True\n",
    "            self.bn_input = nn.BatchNorm1d(num_features=layer_sizes[0])\n",
    "        \n",
    "        if batch_normalize:  \n",
    "            #batch normalize after every linear transformation\n",
    "            for size in layer_sizes[1:]:\n",
    "                self.bn.append(nn.BatchNorm1d(num_features=size))\n",
    "            \n",
    "    def forward(self, x):\n",
    "        if self.batch_normalize_input:\n",
    "            x = self.bn_input(x)\n",
    "\n",
    "        # Feedforward -- note that last layer has no non-linearity\n",
    "        for n, layer in enumerate(self.layers):\n",
    "            x = layer(x)\n",
    "            if self.bn:\n",
    "                x = self.bn[n](x)\n",
    "            if n < len(self.layers) - 1:\n",
    "                x = nn.functional.relu(x)\n",
    "\n",
    "        return x"
   ]
  },
  {
   "cell_type": "code",
   "execution_count": 138,
   "metadata": {
    "id": "SYyjAgBZJh1M"
   },
   "outputs": [],
   "source": [
    "class ReadSetClassifier(nn.Module):\n",
    "    #embedding layer sizes include input, aggregation hidden layer sizes do not include its input which is \n",
    "    # the embedding output, nor its output which is a binary classification\n",
    "    def __init__(self, embedding_layer_sizes, info_embedding_layer_sizes, aggregation_hidden_layer_sizes):\n",
    "        super(ReadSetClassifier, self).__init__()\n",
    "        \n",
    "        # phi is the universal read embedding function\n",
    "        self.phi = LinearStack(embedding_layer_sizes, batch_normalize=False, batch_normalize_input=False)\n",
    "        self.embedding_dimension = embedding_layer_sizes[-1] #this is the embedding dimension of one read\n",
    "        \n",
    "        #omega is the universal embedding of info field variant-level data\n",
    "        self.omega = LinearStack(info_embedding_layer_sizes, batch_normalize=False, batch_normalize_input=False)\n",
    "        self.info_embedding_dimension = info_embedding_layer_sizes[-1]\n",
    "        \n",
    "        # rho is the universal aggregation function\n",
    "        # the *2 is for the use of both ref and alt reads\n",
    "        self.rho = LinearStack([2*self.embedding_dimension + self.info_embedding_dimension] + aggregation_hidden_layer_sizes, batch_normalize=False, batch_normalize_input=False)\n",
    "        \n",
    "        # the scalar anomaly score function\n",
    "        self.score = nn.Linear(aggregation_hidden_layer_sizes[-1], 1)\n",
    "        \n",
    "        # the center of the decision boundary is 1D score space\n",
    "        self.decision_boundary = nn.Parameter(torch.tensor(1.0))\n",
    "        \n",
    "    # see the custom collate_fn for information on the batched input\n",
    "    def forward(self, ref_reads, alt_reads, ref_counts, alt_counts, info):\n",
    "    \n",
    "        # broadcast the embedding to each read\n",
    "        num_sets = len(ref_counts)\n",
    "        \n",
    "        phi_ref = torch.sigmoid(self.phi(ref_reads))\n",
    "        phi_alt = torch.sigmoid(self.phi(alt_reads))\n",
    "        omega_info = torch.sigmoid(self.omega(info))\n",
    "                        \n",
    "        ref_end = torch.cumsum(ref_counts, dim=0)\n",
    "        ref_slices = [slice(0 if n == 0 else ref_end[n-1],ref_end[n]) for n in range(num_sets)]\n",
    "        alt_end = torch.cumsum(alt_counts, dim=0)\n",
    "        alt_slices = [slice(0 if n == 0 else alt_end[n-1],alt_end[n]) for n in range(num_sets)]\n",
    "               \n",
    "        # note that after taking means, tensors are now num_sets x embedding dimension\n",
    "        ref_means = torch.cat([torch.mean(phi_ref[slice], dim=0, keepdim=True) for slice in ref_slices], dim=0)\n",
    "        alt_means = torch.cat([torch.mean(phi_alt[slice], dim=0, keepdim=True) for slice in alt_slices], dim=0)\n",
    "\n",
    "        #stack the ref and alt means and info side-by-side so that each row of the resulting\n",
    "        # 2D tensor is (mean ref 1, . . . mean ref D, mean alt 1, . . . mean alt D, ref count)\n",
    "        stacked_embeddings = torch.cat((ref_means, alt_means, omega_info), dim=1)\n",
    "                \n",
    "        # broadcast the aggregation over the batch, then broadcast the DevNet anomaly score,\n",
    "        scores = torch.abs(self.score(self.rho(stacked_embeddings)))\n",
    "        \n",
    "        output = (scores - self.decision_boundary) * torch.sqrt(torch.unsqueeze(alt_counts,1).float())\n",
    "        \n",
    "        # note that no non-linearity is applied here because nn.BCEWithLogitsLoss() includes\n",
    "        # the sigmoid.  Thus when classifying we will have to apply the sigmoid explicitly\n",
    "        # note also that we return the scores in order to pass it to a custom loss function\n",
    "        return torch.squeeze(output), torch.squeeze(scores)"
   ]
  },
  {
   "cell_type": "code",
   "execution_count": 108,
   "metadata": {},
   "outputs": [],
   "source": [
    "class TemperatureScaledReadSetClassifier(nn.Module):\n",
    "    \"\"\"\n",
    "    A thin decorator, which wraps the above model with temperature scaling\n",
    "    NB: Output of the neural network should be the classification logits,\n",
    "            NOT the softmax (or log softmax)!\n",
    "    \"\"\"\n",
    "    def __init__(self, model):\n",
    "        super(TemperatureScaledReadSetClassifier, self).__init__()\n",
    "        self.model = model\n",
    "        self.temperature = nn.Parameter(torch.tensor(1.5))\n",
    "\n",
    "    def forward(self, ref_reads, alt_reads, ref_counts, alt_counts, info):\n",
    "        logits = self.model(ref_reads, alt_reads, ref_counts, alt_counts, info)[0]\n",
    "        return self.temperature_scale(logits)\n",
    "\n",
    "    def temperature_scale(self, logits):\n",
    "        # Expand temperature to match the size of logits\n",
    "        return logits / self.temperature\n",
    "\n",
    "    # This function probably should live outside of this class, but whatever\n",
    "    def set_temperature(self, valid_loader):\n",
    "        \"\"\"\n",
    "        Tune the tempearature of the model (using the validation set).\n",
    "        We're going to set it to optimize NLL.\n",
    "        valid_loader (DataLoader): validation set loader\n",
    "        \"\"\"\n",
    "        nll_criterion = nn.BCEWithLogitsLoss()\n",
    "\n",
    "        # First: collect all the logits and labels for the validation set\n",
    "        logits_list = []\n",
    "        labels_list = []\n",
    "        with torch.no_grad():\n",
    "            for ref_reads, alt_reads, ref_counts, alt_counts, info, labels, positions, filters in valid_loader:\n",
    "                logits = self.model(ref_reads, alt_reads, ref_counts, alt_counts, info)[0]\n",
    "                logits_list.append(logits)\n",
    "                labels_list.append(labels)\n",
    "            logits = torch.cat(logits_list)\n",
    "            labels = torch.cat(labels_list)\n",
    "\n",
    "        # Calculate NLL and ECE before temperature scaling\n",
    "        before_temperature_nll = nll_criterion(logits, labels).item()\n",
    "        print('Before temperature - NLL: %.3f' % (before_temperature_nll))\n",
    "\n",
    "        # Next: optimize the temperature w.r.t. NLL\n",
    "        optimizer = optim.LBFGS([self.temperature], lr=0.01, max_iter=50)\n",
    "\n",
    "        def eval():\n",
    "            loss = nll_criterion(self.temperature_scale(logits), labels)\n",
    "            loss.backward()\n",
    "            return loss\n",
    "        optimizer.step(eval)\n",
    "\n",
    "        # Calculate NLL and ECE after temperature scaling\n",
    "        after_temperature_nll = nll_criterion(self.temperature_scale(logits), labels).item()\n",
    "        print('Optimal temperature: %.3f' % self.temperature.item())\n",
    "        print('After temperature - NLL: %.3f' % (after_temperature_nll))\n",
    "\n",
    "        return self"
   ]
  },
  {
   "cell_type": "code",
   "execution_count": 61,
   "metadata": {
    "id": "UfZ181vFJh1R"
   },
   "outputs": [],
   "source": [
    "# because our read sets have different sizes, we can't just form a batch by naively stacking tensors\n",
    "# thus we need a custom collate function for our data loader (and we will have to be aware of the custom format the\n",
    "# data loader provides for training)\n",
    "\n",
    "# input batch is a list of tuples (ref_tensor, alt_tensor, info_tensor, (position, filters, is_artifact, m2_artifact))\n",
    "# where ref_reads and alt_reads are (2D tensors, one row per read),\n",
    "# info_tensor is a 1D tensor, one tensor for each variant\n",
    "# position is a string, filters is a set of strings\n",
    "# is_artifact and m2_artifact are binary 0/1 scalars\n",
    "\n",
    "# collated batch contains:\n",
    "# ref (alt) reads: 2D tensors of ALL ref (alt) reads, not separated by set.\n",
    "# ref (alt) counts: number of reads in ref (alt) read sets, in same order as read tensors\n",
    "# info: 2D tensor of info fields, one row per variant\n",
    "# labels: 1D tensor of 0 if non-artifact, 1 if artifact\n",
    "# Example: if we have two input data, one with alt reads [[0,1,2], [3,4,5] and the other with \n",
    "# alt reads [[6,7,8], [9,10,11], [12,13,14] then the output alt reads tensor is\n",
    "# [[0,1,2], [3,4,5], [6,7,8], [9,10,11], [12,13,14]] and the output counts are [2,3]\n",
    "# inside the model, the counts will be used to separate the reads into sets\n",
    "def collate_read_sets(batch):\n",
    "    ref_counts = torch.IntTensor([len(item[0]) for item in batch])\n",
    "    alt_counts = torch.IntTensor([len(item[1]) for item in batch])\n",
    "    ref = torch.cat([item[0] for item in batch], dim=0)\n",
    "    alt = torch.cat([item[1] for item in batch], dim=0)\n",
    "    info = torch.stack([item[2] for item in batch], dim=0)\n",
    "    labels = torch.FloatTensor([item[3][2] for item in batch])\n",
    "    \n",
    "    positions = [item[3][0] for item in batch]\n",
    "    filters = [item[3][1] for item in batch]\n",
    "    \n",
    "    return ref, alt, ref_counts, alt_counts, info, labels, positions, filters"
   ]
  },
  {
   "cell_type": "code",
   "execution_count": 62,
   "metadata": {
    "id": "mzREpVOdJh1S"
   },
   "outputs": [],
   "source": [
    "def round_alt_count_for_binning(alt_count):\n",
    "    if alt_count < 15:\n",
    "        return alt_count\n",
    "    else:\n",
    "        return alt_count - alt_count % 5"
   ]
  },
  {
   "cell_type": "code",
   "execution_count": 63,
   "metadata": {
    "id": "bED3dcJNJh1U"
   },
   "outputs": [],
   "source": [
    "# penalize artifact scores of non-artifacts for being large\n",
    "# this helps us achieve one-class classification, the ability to recognize artifacts as anomalous \n",
    "# even with few training examples by virtue of them not fitting the pattern of non-artifacts.  Such a scheme only\n",
    "# works when the score (or representation) of non-anomalies is forced into a compact space\n",
    "# inputs are 1-D tensors -- a batch of scores and a batch of labels, 0 for non-artifact, 1 for artifact\n",
    "# we only regularize non-artifacts\n",
    "def artifact_score_regularizer(scores, labels):\n",
    "    return torch.sum(nn.functional.relu(scores - 1)*(1.0 - labels))"
   ]
  },
  {
   "cell_type": "code",
   "execution_count": 64,
   "metadata": {},
   "outputs": [],
   "source": [
    "def plot_learning_curves(train_losses, valid_losses):\n",
    "    fig = plt.figure()\n",
    "    learning_curve = fig.gca()\n",
    "    epochs = range(1, len(train_losses) + 1)\n",
    "    learning_curve.plot(epochs, train_losses, label = \"training\")\n",
    "    learning_curve.plot(epochs, valid_losses, label = \"validation\")\n",
    "    learning_curve.set_title(\"Learning curves\")\n",
    "    learning_curve.set_xlabel(\"epoch\")\n",
    "    learning_curve.set_ylabel(\"loss\")\n",
    "    learning_curve.legend() \n",
    "    return fig, learning_curve"
   ]
  },
  {
   "cell_type": "code",
   "execution_count": 65,
   "metadata": {},
   "outputs": [],
   "source": [
    "# confusion_matrices is dict of alt count to 2x2 [[,],[,]] confusion matrices where 0/1 is non-artifact/artifact\n",
    "# and 1st index is truth, 2nd index is prediction\n",
    "def plot_sensitivities(confusion_matrices, name):\n",
    "    counts = []\n",
    "    variant_sensitivities = []\n",
    "    artifact_sensitivities = []\n",
    "    for alt_count_bin in sorted(confusion_matrices.keys()):\n",
    "        matrix = confusion_matrices[alt_count_bin]\n",
    "        if (matrix[0][0] + matrix[0][1]) == 0 or (matrix[1][0] + matrix[1][1]) == 0:\n",
    "            continue\n",
    "\n",
    "        counts.append(alt_count_bin)\n",
    "        variant_sensitivities.append(matrix[0][0] / (matrix[0][0] + matrix[0][1]))\n",
    "        artifact_sensitivities.append(matrix[1][1] / (matrix[1][0] + matrix[1][1]))\n",
    "\n",
    "    fig = plt.figure()\n",
    "    accuracy_curve = fig.gca()\n",
    "    accuracy_curve\n",
    "    accuracy_curve.clear()\n",
    "    accuracy_curve.plot(counts, variant_sensitivities, label = \"variant sensitivity\")\n",
    "    accuracy_curve.plot(counts, artifact_sensitivities, label = \"artifact sensitivity\")\n",
    "    accuracy_curve.set_title(\"Variant and artifact sensitivity by alt count for \" + name)\n",
    "    accuracy_curve.set_xlabel(\"alt count\")\n",
    "    accuracy_curve.set_ylabel(\"sensitivity\")\n",
    "    accuracy_curve.legend()\n",
    "    return fig, accuracy_curve"
   ]
  },
  {
   "cell_type": "code",
   "execution_count": 66,
   "metadata": {},
   "outputs": [],
   "source": [
    "def plot_scores(artifact_scores, non_artifact_scores, name):\n",
    "    fig, ax = plt.subplots(3, 3, sharex='col', sharey='row')\n",
    "    fig.set_figheight(10)\n",
    "    fig.set_figwidth(10)\n",
    "    for n, count in enumerate([2, 3, 5, 7, 9, 12, 16, 20, 25]):\n",
    "        row = int(n/3)\n",
    "        col = n % 3\n",
    "        ax[row, col].hist(non_artifact_scores[count], bins=50, alpha = 0.5, label = 'non-artifacts')\n",
    "        ax[row, col].hist(artifact_scores[count], bins=50, alpha = 0.5, label = 'artifacts')\n",
    "        ax[row, col].set_title(\"Alt count \" + str(count) + \" for \" + name)\n",
    "        ax[row, col].set_xlabel(\"score\")\n",
    "        ax[row, col].legend()\n",
    "    return fig, ax"
   ]
  },
  {
   "cell_type": "code",
   "execution_count": 87,
   "metadata": {},
   "outputs": [],
   "source": [
    "class ValidationStats:\n",
    "    def __init__(self):\n",
    "        self.confusion_by_count = defaultdict(lambda: [[0,0],[0,0]])\n",
    "        self.confusion = [[0,0],[0,0]]\n",
    "        \n",
    "        self.artifact_scores_by_count = defaultdict(list)\n",
    "        self.non_artifact_scores_by_count = defaultdict(list)\n",
    "        \n",
    "        self.missed_artifacts_by_count = defaultdict(list)\n",
    "        self.missed_variants_by_count = defaultdict(list)\n",
    "        \n",
    "    # prediction and truth are 0 if not artifact, 1 if artifact\n",
    "    def add(self, alt_count, truth, prediction, score, filters, position):\n",
    "        alt_count_bin = round_alt_count_for_binning(alt_count)\n",
    "        self.confusion_by_count[alt_count_bin][truth][prediction] += 1\n",
    "        self.confusion[truth][prediction] += 1\n",
    "        (self.artifact_scores_by_count if truth == 1 else self.non_artifact_scores_by_count)[alt_count_bin].append(score)\n",
    "        \n",
    "        if truth == 1 and prediction == 0:\n",
    "            self.missed_artifacts_by_count[alt_count_bin].append((score, position, filters))\n",
    "        elif truth == 0 and prediction == 1:\n",
    "            self.missed_variants_by_count[alt_count_bin].append((score, position, filters))\n",
    "        \n",
    "    def confusion_matrices(self):\n",
    "        return self.confusion_by_count\n",
    "    \n",
    "    def confusion(self):\n",
    "        return self.confusion\n",
    "    \n",
    "    def sensitivity(self):\n",
    "        return self.confusion[0][0]/(self.confusion[0][0] + self.confusion[0][1])\n",
    "    \n",
    "    def precision(self):\n",
    "        return self.confusion[0][0]/(self.confusion[0][0] + self.confusion[1][0])\n",
    "    \n",
    "    def artifact_scores(self):\n",
    "        return self.artifact_scores_by_count\n",
    "    \n",
    "    def non_artifact_scores(self):\n",
    "        return self.non_artifact_scores_by_count\n",
    "    \n",
    "    def worst_missed_variants(self, alt_count):\n",
    "        alt_count_bin = round_alt_count_for_binning(alt_count)\n",
    "        #sort from highest score to lowest\n",
    "        return sorted(self.missed_variants_by_count[alt_count_bin], key=lambda x: -x[0])\n",
    "    \n",
    "    def worst_missed_artifacts(self, alt_count):\n",
    "        alt_count_bin = round_alt_count_for_binning(alt_count)\n",
    "        #sort from highest score to lowest\n",
    "        return sorted(self.missed_artifacts_by_count[alt_count_bin], key=lambda x: x[0])\n",
    "        \n",
    "       \n",
    "    "
   ]
  },
  {
   "cell_type": "code",
   "execution_count": 123,
   "metadata": {},
   "outputs": [],
   "source": [
    "#note the m2 filters to keep here are different from those used to generate the training data\n",
    "# above, they were filters that are not artifacts, such as germline, contamination, and weak evidence\n",
    "# here, they are artifact filters that we intend to use in M3, such as the normal artifact filter\n",
    "\n",
    "#threshold is threshold of logit prediction for considering variant an artifact -- this is a quick way to\n",
    "# explore translating likelihoods from balanced training to posteriors, which we will alter do in a principled way\n",
    "def get_validation_stats(model, loader, m2_filters_to_keep = {}, threshold=0.0):\n",
    "    stats = ValidationStats()\n",
    "\n",
    "    model.train(False)\n",
    "    for ref_reads, alt_reads, ref_counts, alt_counts, info, labels, positions, filters in loader:\n",
    "        predictions, scores = model(ref_reads, alt_reads, ref_counts, alt_counts, info)              \n",
    "        for n in range(len(alt_counts)):  \n",
    "            truth = 1 if labels[n].item() > 0.5 else 0\n",
    "            pred = 1 if (predictions[n] > threshold or filters[n].intersection(m2_filters_to_keep)) else 0   \n",
    "            stats.add(alt_counts[n].item(), truth, pred, scores[n].item(), filters[n], positions[n])\n",
    "            \n",
    "    return stats"
   ]
  },
  {
   "cell_type": "code",
   "execution_count": 115,
   "metadata": {},
   "outputs": [],
   "source": [
    "# get the same stats for Mutect2 using the M2 filters and truth labels\n",
    "def get_m2_validation_stats(loader):\n",
    "    stats = ValidationStats()\n",
    "\n",
    "    for ref_reads, alt_reads, ref_counts, alt_counts, info, labels, positions, filters in loader:\n",
    "        for n in range(len(alt_counts)):  \n",
    "            truth = 1 if labels[n].item() > 0.5 else 0\n",
    "            pred = 0 if 'PASS' in filters[n] else 1  \n",
    "            score = 10 if pred == 1 else 0\n",
    "            stats.add(alt_counts[n].item(), truth, pred, scores, filters[n], positions[n])\n",
    "            \n",
    "    return stats"
   ]
  },
  {
   "cell_type": "code",
   "execution_count": 139,
   "metadata": {},
   "outputs": [],
   "source": [
    "BATCH_SIZE = 64\n",
    "\n",
    "train_labels = [datum[3][2] for datum in train]\n",
    "valid_labels = [datum[3][2] for datum in valid]\n",
    "\n",
    "model = ReadSetClassifier([NUM_READ_FEATURES, 20, 20], [NUM_INFO_FEATURES, 10], [10]).float()\n",
    "class_counts = torch.FloatTensor(np.bincount(train_labels).tolist())\n",
    "samples_per_epoch = 20*int(class_counts[1]) #epoch should roughly go over every artifact O(1) times, but more than once because we want to squeeze more out of the non-artifact\n",
    "\n",
    "class_weights = 1.0/class_counts\n",
    "\n",
    "train_sampler = torch.utils.data.WeightedRandomSampler(weights=class_weights[train_labels], num_samples = samples_per_epoch)\n",
    "    \n",
    "train_loader = DataLoader(dataset=train, batch_size=BATCH_SIZE, sampler=train_sampler, collate_fn=collate_read_sets, drop_last=True)\n",
    "valid_loader = DataLoader(dataset=valid, batch_size=BATCH_SIZE, collate_fn=collate_read_sets, drop_last=True)\n",
    "test_loader = DataLoader(dataset=test, batch_size=BATCH_SIZE, collate_fn=collate_read_sets, drop_last=True)\n",
    "\n",
    "#criterion = nn.BCEWithLogitsLoss(pos_weight=torch.tensor([NON_ARTIFACT_PER_ARTIFACT]))\n",
    "criterion = nn.BCEWithLogitsLoss()\n",
    "optimizer = torch.optim.Adam(model.parameters())\n",
    "\n",
    "# track loss and accuracy as map from alt count bins to lists by epoch\n",
    "train_losses = []\n",
    "valid_losses = []"
   ]
  },
  {
   "cell_type": "code",
   "execution_count": 140,
   "metadata": {
    "colab": {
     "base_uri": "https://localhost:8080/",
     "height": 951
    },
    "id": "KAknfUNOJh1X",
    "outputId": "4bca08e2-0730-43e1-c8ab-82223db178d8"
   },
   "outputs": [
    {
     "data": {
      "image/png": "[encoded data removed]",
      "text/plain": [
       "<Figure size 432x288 with 1 Axes>"
      ]
     },
     "metadata": {
      "needs_background": "light"
     },
     "output_type": "display_data"
    }
   ],
   "source": [
    "EPOCHS = 50\n",
    "for epoch in range(0, EPOCHS):\n",
    "    for is_training in [True, False]:   \n",
    "        model.train(is_training)\n",
    "        epoch_loss = 0\n",
    "\n",
    "        # note the custom collate_fn above: ref_reads and alt_reads 2D tensors of all reads, one read per row, \n",
    "        # labels is a 1D tensor, ref_counts and alt_counts are lists\n",
    "        loader = train_loader if is_training else valid_loader\n",
    "        for batch, (ref_reads, alt_reads, ref_counts, alt_counts, info, labels, positions, filters) in enumerate(loader):\n",
    "            if batch % 1000 == 0:\n",
    "                print(\"Epoch \" + str(epoch) +\": \" + (\"training \" if is_training else \"validating \") + \"batch \" + str(batch))\n",
    "                clear_output(wait=True)\n",
    "            \n",
    "            predictions, scores = model(ref_reads, alt_reads, ref_counts, alt_counts, info)              \n",
    "            loss = criterion(predictions, labels) #+ 0.00*artifact_score_regularizer(scores, labels)\n",
    "            epoch_loss += loss.item()\n",
    "          \n",
    "            if is_training:\n",
    "                optimizer.zero_grad()\n",
    "                loss.backward()\n",
    "                optimizer.step()\n",
    "        (train_losses if is_training else valid_losses).append(epoch_loss / (len(loader)*BATCH_SIZE))\n",
    "    # end of epoch\n",
    "# model is trained\n",
    "\n",
    "fig, learning_curve = plot_learning_curves(train_losses, valid_losses) "
   ]
  },
  {
   "cell_type": "code",
   "execution_count": 109,
   "metadata": {},
   "outputs": [
    {
     "name": "stdout",
     "output_type": "stream",
     "text": [
      "Before temperature - NLL: 0.224\n",
      "Optimal temperature: 0.839\n",
      "After temperature - NLL: 0.229\n"
     ]
    },
    {
     "data": {
      "text/plain": [
       "TemperatureScaledReadSetClassifier(\n",
       "  (model): ReadSetClassifier(\n",
       "    (phi): LinearStack(\n",
       "      (layers): ModuleList(\n",
       "        (0): Linear(in_features=11, out_features=20, bias=True)\n",
       "        (1): Linear(in_features=20, out_features=20, bias=True)\n",
       "      )\n",
       "      (bn): ModuleList()\n",
       "    )\n",
       "    (omega): LinearStack(\n",
       "      (layers): ModuleList(\n",
       "        (0): Linear(in_features=5, out_features=10, bias=True)\n",
       "      )\n",
       "      (bn): ModuleList()\n",
       "    )\n",
       "    (rho): LinearStack(\n",
       "      (layers): ModuleList(\n",
       "        (0): Linear(in_features=50, out_features=10, bias=True)\n",
       "      )\n",
       "      (bn): ModuleList()\n",
       "    )\n",
       "    (score): Linear(in_features=10, out_features=1, bias=True)\n",
       "  )\n",
       ")"
      ]
     },
     "execution_count": 109,
     "metadata": {},
     "output_type": "execute_result"
    }
   ],
   "source": [
    "calibrated_model = TemperatureScaledReadSetClassifier(model)\n",
    "calibrated_model.set_temperature(valid_loader)"
   ]
  },
  {
   "cell_type": "code",
   "execution_count": 141,
   "metadata": {},
   "outputs": [
    {
     "data": {
      "text/plain": [
       "(<Figure size 720x720 with 9 Axes>,\n",
       " array([[<matplotlib.axes._subplots.AxesSubplot object at 0x7fba60d875e0>,\n",
       "         <matplotlib.axes._subplots.AxesSubplot object at 0x7fba5a5b4a60>,\n",
       "         <matplotlib.axes._subplots.AxesSubplot object at 0x7fba780c65e0>],\n",
       "        [<matplotlib.axes._subplots.AxesSubplot object at 0x7fba6babeb50>,\n",
       "         <matplotlib.axes._subplots.AxesSubplot object at 0x7fba9a631130>,\n",
       "         <matplotlib.axes._subplots.AxesSubplot object at 0x7fba99b9a5b0>],\n",
       "        [<matplotlib.axes._subplots.AxesSubplot object at 0x7fba9969d9d0>,\n",
       "         <matplotlib.axes._subplots.AxesSubplot object at 0x7fbae24e7a60>,\n",
       "         <matplotlib.axes._subplots.AxesSubplot object at 0x7fbad83ca280>]],\n",
       "       dtype=object))"
      ]
     },
     "execution_count": 141,
     "metadata": {},
     "output_type": "execute_result"
    },
    {
     "data": {
      "image/png": "[encoded data removed]",
      "text/plain": [
       "<Figure size 432x288 with 1 Axes>"
      ]
     },
     "metadata": {
      "needs_background": "light"
     },
     "output_type": "display_data"
    },
    {
     "data": {
      "image/png": "[encoded data removed]",
      "text/plain": [
       "<Figure size 720x720 with 9 Axes>"
      ]
     },
     "metadata": {
      "needs_background": "light"
     },
     "output_type": "display_data"
    }
   ],
   "source": [
    "valid_stats = get_validation_stats(model, valid_loader)      \n",
    "plot_sensitivities(valid_stats.confusion_matrices(), \"model on unsupervised validation set\")\n",
    "plot_scores(valid_stats.artifact_scores(), valid_stats.non_artifact_scores(), \"validation\")"
   ]
  },
  {
   "cell_type": "code",
   "execution_count": 142,
   "metadata": {},
   "outputs": [
    {
     "data": {
      "text/plain": [
       "(<Figure size 720x720 with 9 Axes>,\n",
       " array([[<matplotlib.axes._subplots.AxesSubplot object at 0x7fba8e3aed60>,\n",
       "         <matplotlib.axes._subplots.AxesSubplot object at 0x7fba87833220>,\n",
       "         <matplotlib.axes._subplots.AxesSubplot object at 0x7fba883b07c0>],\n",
       "        [<matplotlib.axes._subplots.AxesSubplot object at 0x7fba73ee2d30>,\n",
       "         <matplotlib.axes._subplots.AxesSubplot object at 0x7fbb1cf978b0>,\n",
       "         <matplotlib.axes._subplots.AxesSubplot object at 0x7fbb17321d30>],\n",
       "        [<matplotlib.axes._subplots.AxesSubplot object at 0x7fbae3648190>,\n",
       "         <matplotlib.axes._subplots.AxesSubplot object at 0x7fbb17284220>,\n",
       "         <matplotlib.axes._subplots.AxesSubplot object at 0x7fbb14101a00>]],\n",
       "       dtype=object))"
      ]
     },
     "execution_count": 142,
     "metadata": {},
     "output_type": "execute_result"
    },
    {
     "data": {
      "image/png": "[encoded data removed]",
      "text/plain": [
       "<Figure size 432x288 with 1 Axes>"
      ]
     },
     "metadata": {
      "needs_background": "light"
     },
     "output_type": "display_data"
    },
    {
     "data": {
      "image/png": "[encoded data removed]",
      "text/plain": [
       "<Figure size 720x720 with 9 Axes>"
      ]
     },
     "metadata": {
      "needs_background": "light"
     },
     "output_type": "display_data"
    }
   ],
   "source": [
    "test_stats = get_validation_stats(model, test_loader, {'normal_artifact'}, -4)\n",
    "plot_sensitivities(test_stats.confusion_matrices(), \"model on test set\")\n",
    "plot_scores(test_stats.artifact_scores(), test_stats.non_artifact_scores(), \"test\")"
   ]
  },
  {
   "cell_type": "code",
   "execution_count": 118,
   "metadata": {},
   "outputs": [
    {
     "data": {
      "text/plain": [
       "(<Figure size 432x288 with 1 Axes>,\n",
       " <matplotlib.axes._subplots.AxesSubplot at 0x7fba8acbafd0>)"
      ]
     },
     "execution_count": 118,
     "metadata": {},
     "output_type": "execute_result"
    },
    {
     "data": {
      "image/png": "[encoded data removed]",
      "text/plain": [
       "<Figure size 432x288 with 1 Axes>"
      ]
     },
     "metadata": {
      "needs_background": "light"
     },
     "output_type": "display_data"
    }
   ],
   "source": [
    "m2_stats = get_m2_validation_stats(test_loader)\n",
    "plot_sensitivities(m2_stats.confusion_matrices(), \"Mutect2 on test set\")"
   ]
  },
  {
   "cell_type": "code",
   "execution_count": 143,
   "metadata": {},
   "outputs": [
    {
     "name": "stdout",
     "output_type": "stream",
     "text": [
      "(0.960852959898154, 0.9827473958333334)\n",
      "(0.9121578612348823, 0.9754935330156569)\n"
     ]
    }
   ],
   "source": [
    "print((test_stats.sensitivity(), test_stats.precision()))\n",
    "print((m2_stats.sensitivity(), m2_stats.precision()))"
   ]
  },
  {
   "cell_type": "code",
   "execution_count": 121,
   "metadata": {},
   "outputs": [
    {
     "data": {
      "text/plain": [
       "([[3119, 23], [361, 6801]], [[2866, 276], [72, 7090]])"
      ]
     },
     "execution_count": 121,
     "metadata": {},
     "output_type": "execute_result"
    }
   ],
   "source": [
    "test_stats.confusion, m2_stats.confusion"
   ]
  },
  {
   "cell_type": "code",
   "execution_count": 86,
   "metadata": {},
   "outputs": [
    {
     "data": {
      "text/plain": [
       "[(0.1896074116230011, '3:154213414', {'haplotype', 'panel_of_normals'}),\n",
       " (0.2702466547489166, '2:171894122', {'haplotype', 'panel_of_normals'}),\n",
       " (0.3536185920238495, '13:61787604', {'PASS'}),\n",
       " (0.40648579597473145, '6:104947544', {'haplotype', 'panel_of_normals'}),\n",
       " (0.4086052179336548, '3:154213412', {'haplotype', 'panel_of_normals'}),\n",
       " (0.4946744740009308, '4:45495101', {'PASS'}),\n",
       " (0.5664034485816956, 'X:41190284', {'panel_of_normals'}),\n",
       " (0.632560670375824,\n",
       "  '8:10853035',\n",
       "  {'clustered_events', 'haplotype', 'panel_of_normals'}),\n",
       " (0.7032024264335632,\n",
       "  '3:15608348',\n",
       "  {'clustered_events', 'haplotype', 'panel_of_normals'}),\n",
       " (0.8218171000480652, '2:212329707', {'panel_of_normals'}),\n",
       " (0.9268468022346497, '3:63428587', {'panel_of_normals'}),\n",
       " (1.016925573348999, '7:11286850', {'haplotype', 'panel_of_normals'}),\n",
       " (1.129881739616394, '6:20927169', {'haplotype', 'panel_of_normals'}),\n",
       " (1.1746221780776978, '11:42435619', {'PASS'}),\n",
       " (1.2398161888122559, '5:126650182', {'panel_of_normals'}),\n",
       " (1.2551391124725342, '8:142642952', {'panel_of_normals'}),\n",
       " (1.3378769159317017, '12:82300198', {'haplotype', 'panel_of_normals'}),\n",
       " (1.3458583354949951, '4:180904693', {'panel_of_normals'}),\n",
       " (1.3746026754379272,\n",
       "  '6:451010',\n",
       "  {'base_qual', 'clustered_events', 'haplotype'}),\n",
       " (1.457517385482788, '15:22029018', {'map_qual', 'panel_of_normals'}),\n",
       " (1.4717248678207397, '18:27452792', {'panel_of_normals'}),\n",
       " (1.5473811626434326, '2:13117395', {'clustered_events', 'panel_of_normals'}),\n",
       " (1.5725032091140747, '18:57852948', {'panel_of_normals'}),\n",
       " (1.612059473991394,\n",
       "  '5:70112548',\n",
       "  {'haplotype', 'map_qual', 'panel_of_normals'}),\n",
       " (1.640435814857483, '2:941405', {'clustered_events'}),\n",
       " (1.6582051515579224, '6:451007', {'clustered_events', 'haplotype'}),\n",
       " (1.6598230600357056, '3:24780514', {'panel_of_normals'}),\n",
       " (1.722525715827942, '6:10170557', {'clustered_events', 'panel_of_normals'}),\n",
       " (1.7294561862945557,\n",
       "  '13:57501898',\n",
       "  {'haplotype', 'panel_of_normals', 'slippage'}),\n",
       " (1.7314072847366333, '3:130087389', {'panel_of_normals', 'slippage'}),\n",
       " (1.7419426441192627, '8:77159835', {'slippage'}),\n",
       " (1.7481448650360107, '17:62902851', {'map_qual', 'panel_of_normals'}),\n",
       " (1.753645658493042,\n",
       "  '10:117293887',\n",
       "  {'clustered_events', 'haplotype', 'panel_of_normals'}),\n",
       " (1.7774674892425537, '4:183046109', {'panel_of_normals'}),\n",
       " (1.7837430238723755, '3:196066247', {'panel_of_normals'}),\n",
       " (1.7900028228759766, 'X:2337864', {'base_qual'}),\n",
       " (1.8070685863494873, '4:66241504', {'panel_of_normals', 'slippage'}),\n",
       " (1.9064998626708984,\n",
       "  '11:58864405',\n",
       "  {'clustered_events', 'haplotype', 'panel_of_normals'}),\n",
       " (1.9383265972137451, '6:43126070', {'base_qual', 'clustered_events'}),\n",
       " (2.017517328262329, '5:40023675', {'base_qual', 'clustered_events'}),\n",
       " (2.075338363647461,\n",
       "  '16:63218322',\n",
       "  {'base_qual', 'clustered_events', 'panel_of_normals'}),\n",
       " (2.0849711894989014, '12:109599544', {'haplotype', 'panel_of_normals'}),\n",
       " (2.1134324073791504,\n",
       "  '2:239886808',\n",
       "  {'clustered_events', 'haplotype', 'panel_of_normals'}),\n",
       " (2.1393377780914307,\n",
       "  '12:101628962',\n",
       "  {'clustered_events', 'panel_of_normals'}),\n",
       " (2.1780214309692383, '9:69423641', {'map_qual', 'panel_of_normals'}),\n",
       " (2.1812210083007812, '21:9678846', {'clustered_events', 'panel_of_normals'}),\n",
       " (2.203063488006592, '12:74099938', {'panel_of_normals', 'slippage'}),\n",
       " (2.210733413696289, '9:138219857', {'panel_of_normals'}),\n",
       " (2.238015651702881, '17:18314142', {'map_qual', 'panel_of_normals'}),\n",
       " (2.2521443367004395, 'X:79470635', {'clustered_events', 'haplotype'}),\n",
       " (2.2692925930023193,\n",
       "  '11:82063900',\n",
       "  {'haplotype', 'map_qual', 'panel_of_normals'}),\n",
       " (2.2959959506988525,\n",
       "  '10:135461761',\n",
       "  {'clustered_events', 'panel_of_normals'}),\n",
       " (2.297791004180908,\n",
       "  '6:169462728',\n",
       "  {'haplotype', 'map_qual', 'panel_of_normals'}),\n",
       " (2.3369736671447754,\n",
       "  '9:44111192',\n",
       "  {'clustered_events', 'map_qual', 'panel_of_normals'}),\n",
       " (2.382624387741089, '11:19849691', {'clustered_events', 'haplotype'}),\n",
       " (2.388922929763794,\n",
       "  '19:27739209',\n",
       "  {'clustered_events', 'haplotype', 'strand_bias'}),\n",
       " (2.4777424335479736,\n",
       "  '17:2713326',\n",
       "  {'base_qual',\n",
       "   'clustered_events',\n",
       "   'haplotype',\n",
       "   'panel_of_normals',\n",
       "   'strand_bias'}),\n",
       " (2.5164225101470947, '19:27739226', {'clustered_events', 'haplotype'}),\n",
       " (2.5264406204223633, '10:39141499', {'clustered_events'}),\n",
       " (2.5295000076293945,\n",
       "  '10:104369',\n",
       "  {'clustered_events', 'haplotype', 'map_qual', 'panel_of_normals'}),\n",
       " (2.536545515060425, '6:156714203', {'panel_of_normals'}),\n",
       " (2.5414493083953857, '19:27739234', {'clustered_events', 'haplotype'}),\n",
       " (2.5451788902282715, '12:70405411', {'panel_of_normals', 'slippage'}),\n",
       " (2.5733282566070557, '16:5504975', {'clustered_events'}),\n",
       " (2.585627794265747, '14:58907006', {'slippage'}),\n",
       " (2.6022374629974365, '19:27739242', {'clustered_events', 'haplotype'})]"
      ]
     },
     "execution_count": 86,
     "metadata": {},
     "output_type": "execute_result"
    }
   ],
   "source": [
    "test_stats.worst_missed_artifacts(5)"
   ]
  },
  {
   "cell_type": "code",
   "execution_count": null,
   "metadata": {},
   "outputs": [],
   "source": []
  }
 ],
 "metadata": {
  "colab": {
   "name": "mutect3.ipynb",
   "provenance": []
  },
  "kernelspec": {
   "display_name": "Python 3",
   "language": "python",
   "name": "python3"
  },
  "language_info": {
   "codemirror_mode": {
    "name": "ipython",
    "version": 3
   },
   "file_extension": ".py",
   "mimetype": "text/x-python",
   "name": "python",
   "nbconvert_exporter": "python",
   "pygments_lexer": "ipython3",
   "version": "3.8.3"
  }
 },
 "nbformat": 4,
 "nbformat_minor": 1
}
