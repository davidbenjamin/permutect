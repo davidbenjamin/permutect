{
 "cells": [
  {
   "cell_type": "code",
   "execution_count": 1,
   "metadata": {
    "id": "lJSaK5vvJh04"
   },
   "outputs": [],
   "source": [
    "from torch.distributions.beta import Beta\n",
    "from mutect3 import tensors, train, networks\n",
    "\n",
    "%matplotlib inline"
   ]
  },
  {
   "cell_type": "code",
   "execution_count": 2,
   "metadata": {},
   "outputs": [],
   "source": [
    "PICKLE_DIR = '/Users/davidben/broad/mutect3/pickles/'\n",
    "DREAMS = ['dream1', 'dream2' , 'dream3', 'dream4']\n",
    "\n",
    "DREAM_1_PAIR, DREAM_2_PAIR, DREAM_3_PAIR, DREAM_4_PAIR = (PICKLE_DIR + dream + '-pair-train.pickle' for dream in DREAMS)\n",
    "DREAM_1_TEST, DREAM_2_TEST, DREAM_3_TEST, DREAM_4_TEST = (PICKLE_DIR + dream + '-test.pickle' for dream in DREAMS)\n",
    "\n",
    "DREAM_1_SMALL_PAIR = PICKLE_DIR + 'dream1-small-pair-train.pickle'\n",
    "DREAM_1_SMALL_TEST = PICKLE_DIR + 'dream1-small-test.pickle'\n",
    "\n",
    "GENERATE_PICKLES = False\n",
    "if GENERATE_PICKLES:\n",
    "    table_dir = '/Users/davidben/broad/mutect3/tables/'\n",
    "    tumor_samples = ['synthetic.challenge.set1.tumor','background.synth.challenge2.snvs.svs.tumorbackground','IS3.snv.indel.sv','synthetic.challenge.set4.tumour']\n",
    "    normal_samples = ['synthetic.challenge.set1.normal','synthetic.challenge.set2.normal','G15512.prenormal.sorted','synthetic.challenge.set4.normal']\n",
    "\n",
    "    for dream, tumor_sample, normal_sample in zip(DREAMS, tumor_samples, normal_samples):\n",
    "        print(\"Generating tensors for \" + dream)\n",
    "        tumor_table, normal_table = (table_dir + dream + suffix for suffix in ('-tumor.table', '-normal.table'))\n",
    "        tensors.generate_pickles(tumor_table, normal_table, tumor_sample, normal_sample, PICKLE_DIR, dream) "
   ]
  },
  {
   "cell_type": "code",
   "execution_count": null,
   "metadata": {},
   "outputs": [],
   "source": [
    "beta1 = Beta(5,1)\n",
    "beta2 = Beta(5,1)\n",
    "batch_size = 64\n",
    "num_epochs = 20\n",
    "params = train.TrainingParameters(batch_size, num_epochs, beta1, beta2)\n",
    "\n",
    "hidden_read_layers = [30,30,30,30]\n",
    "hidden_info_layers = [20,20,20]\n",
    "aggregation_layers = [20,20]\n",
    "output_layers = [10]\n",
    "dropout_p = 0.2\n",
    "m3_params = networks.Mutect3Parameters(hidden_read_layers, hidden_info_layers, aggregation_layers, output_layers, dropout_p)\n",
    "trained_model = train.run_evaluation([DREAM_1_PAIR], DREAM_1_TEST, params, m3_params)"
   ]
  },
  {
   "cell_type": "code",
   "execution_count": null,
   "metadata": {},
   "outputs": [
    {
     "name": "stdout",
     "output_type": "stream",
     "text": [
      "Loading datasets from pickled files\n",
      "Unlabeled data: 4374, labeled data: 7959\n",
      "Dataset sizes -- training: 11099, validation: 1234, test: 1764\n",
      "Training data includes 2 PASS variants labelled as artifacts.\n"
     ]
    },
    {
     "data": {
      "application/vnd.jupyter.widget-view+json": {
       "model_id": "f3d1e444baaa4f5aa8bd34e288ddc736",
       "version_major": 2,
       "version_minor": 0
      },
      "text/plain": [
       "HBox(children=(FloatProgress(value=0.0, description='Epoch', max=5.0, style=ProgressStyle(description_width='i…"
      ]
     },
     "metadata": {},
     "output_type": "display_data"
    }
   ],
   "source": [
    "beta1 = Beta(5,1)\n",
    "beta2 = Beta(5,1)\n",
    "batch_size = 64\n",
    "num_epochs = 5\n",
    "params = train.TrainingParameters(batch_size, num_epochs, beta1, beta2)\n",
    "\n",
    "hidden_read_layers = [20,20]\n",
    "hidden_info_layers = [20,20]\n",
    "aggregation_layers = [20]\n",
    "output_layers = [10]\n",
    "dropout_p = 0.2\n",
    "m3_params = networks.Mutect3Parameters(hidden_read_layers, hidden_info_layers, aggregation_layers, output_layers, dropout_p)\n",
    "\n",
    "trained_model = train.run_evaluation([DREAM_1_SMALL_PAIR], DREAM_1_SMALL_TEST, params, m3_params)"
   ]
  },
  {
   "cell_type": "code",
   "execution_count": null,
   "metadata": {},
   "outputs": [],
   "source": []
  }
 ],
 "metadata": {
  "colab": {
   "name": "mutect3.ipynb",
   "provenance": []
  },
  "kernelspec": {
   "display_name": "Python 3",
   "language": "python",
   "name": "python3"
  },
  "language_info": {
   "codemirror_mode": {
    "name": "ipython",
    "version": 3
   },
   "file_extension": ".py",
   "mimetype": "text/x-python",
   "name": "python",
   "nbconvert_exporter": "python",
   "pygments_lexer": "ipython3",
   "version": "3.8.3"
  }
 },
 "nbformat": 4,
 "nbformat_minor": 1
}
